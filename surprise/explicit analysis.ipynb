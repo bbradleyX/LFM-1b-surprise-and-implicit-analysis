{
 "cells": [
  {
   "cell_type": "code",
   "execution_count": 1,
   "metadata": {},
   "outputs": [],
   "source": [
    "import pandas as pd\n",
    "import numpy as np\n",
    "import matplotlib.pyplot as plot\n",
    "from scipy import stats\n",
    "from surprise import Reader, Dataset\n",
    "from surprise.model_selection import train_test_split\n",
    "from surprise import NormalPredictor, BaselineOnly, KNNBasic, KNNWithMeans, SVD, NMF, accuracy\n",
    "from collections import defaultdict"
   ]
  },
  {
   "cell_type": "markdown",
   "metadata": {},
   "source": [
    "# Data Parsing"
   ]
  },
  {
   "cell_type": "code",
   "execution_count": 2,
   "metadata": {},
   "outputs": [],
   "source": [
    "# initialize data\n",
    "item_threshold = 1 # used to filter out user/artist pairs that have been \n",
    "                   #listened to less than the threshold number of times\n",
    "popular_artist_fraction = 0.2 # top cutoff for what we consider popular artists, in this case the top 20%\n",
    "\n",
    "user_events_file = '../data/user_events.txt'\n",
    "low_user_file = '../data/low_main_users.txt'\n",
    "medium_user_file = '../data/medium_main_users.txt'\n",
    "high_user_file = '../data/high_main_users.txt'"
   ]
  },
  {
   "cell_type": "code",
   "execution_count": 3,
   "metadata": {},
   "outputs": [
    {
     "name": "stdout",
     "output_type": "stream",
     "text": [
      "No. of user events: 28718087\n"
     ]
    },
    {
     "data": {
      "text/html": [
       "<div>\n",
       "<style scoped>\n",
       "    .dataframe tbody tr th:only-of-type {\n",
       "        vertical-align: middle;\n",
       "    }\n",
       "\n",
       "    .dataframe tbody tr th {\n",
       "        vertical-align: top;\n",
       "    }\n",
       "\n",
       "    .dataframe thead th {\n",
       "        text-align: right;\n",
       "    }\n",
       "</style>\n",
       "<table border=\"1\" class=\"dataframe\">\n",
       "  <thead>\n",
       "    <tr style=\"text-align: right;\">\n",
       "      <th></th>\n",
       "      <th>user</th>\n",
       "      <th>artist</th>\n",
       "      <th>album</th>\n",
       "      <th>track</th>\n",
       "      <th>timestamp</th>\n",
       "    </tr>\n",
       "  </thead>\n",
       "  <tbody>\n",
       "    <tr>\n",
       "      <th>0</th>\n",
       "      <td>31435741</td>\n",
       "      <td>2</td>\n",
       "      <td>4</td>\n",
       "      <td>4</td>\n",
       "      <td>1385212958</td>\n",
       "    </tr>\n",
       "    <tr>\n",
       "      <th>1</th>\n",
       "      <td>31435741</td>\n",
       "      <td>2</td>\n",
       "      <td>4</td>\n",
       "      <td>4</td>\n",
       "      <td>1385212642</td>\n",
       "    </tr>\n",
       "    <tr>\n",
       "      <th>2</th>\n",
       "      <td>31435741</td>\n",
       "      <td>2</td>\n",
       "      <td>4</td>\n",
       "      <td>4</td>\n",
       "      <td>1385212325</td>\n",
       "    </tr>\n",
       "    <tr>\n",
       "      <th>3</th>\n",
       "      <td>31435741</td>\n",
       "      <td>2</td>\n",
       "      <td>4</td>\n",
       "      <td>4</td>\n",
       "      <td>1385209508</td>\n",
       "    </tr>\n",
       "    <tr>\n",
       "      <th>4</th>\n",
       "      <td>31435741</td>\n",
       "      <td>2</td>\n",
       "      <td>4</td>\n",
       "      <td>4</td>\n",
       "      <td>1385209191</td>\n",
       "    </tr>\n",
       "  </tbody>\n",
       "</table>\n",
       "</div>"
      ],
      "text/plain": [
       "       user  artist  album  track   timestamp\n",
       "0  31435741       2      4      4  1385212958\n",
       "1  31435741       2      4      4  1385212642\n",
       "2  31435741       2      4      4  1385212325\n",
       "3  31435741       2      4      4  1385209508\n",
       "4  31435741       2      4      4  1385209191"
      ]
     },
     "execution_count": 3,
     "metadata": {},
     "output_type": "execute_result"
    }
   ],
   "source": [
    "#read in user events file\n",
    "cols = ['user', 'artist', 'album', 'track', 'timestamp']\n",
    "df_events = pd.read_csv(user_events_file, sep='\\t', names=cols)\n",
    "print('No. of user events: ' + str(len(df_events)))\n",
    "df_events.head() # check it is all read in properly"
   ]
  },
  {
   "cell_type": "markdown",
   "metadata": {},
   "source": [
    "## User-Artist Matrix"
   ]
  },
  {
   "cell_type": "code",
   "execution_count": 4,
   "metadata": {},
   "outputs": [
    {
     "name": "stdout",
     "output_type": "stream",
     "text": [
      "No. user-artist pairs: 1755361\n"
     ]
    },
    {
     "data": {
      "text/html": [
       "<div>\n",
       "<style scoped>\n",
       "    .dataframe tbody tr th:only-of-type {\n",
       "        vertical-align: middle;\n",
       "    }\n",
       "\n",
       "    .dataframe tbody tr th {\n",
       "        vertical-align: top;\n",
       "    }\n",
       "\n",
       "    .dataframe thead th {\n",
       "        text-align: right;\n",
       "    }\n",
       "</style>\n",
       "<table border=\"1\" class=\"dataframe\">\n",
       "  <thead>\n",
       "    <tr style=\"text-align: right;\">\n",
       "      <th></th>\n",
       "      <th>user</th>\n",
       "      <th>artist</th>\n",
       "      <th>count</th>\n",
       "    </tr>\n",
       "  </thead>\n",
       "  <tbody>\n",
       "    <tr>\n",
       "      <th>0</th>\n",
       "      <td>1021445</td>\n",
       "      <td>12</td>\n",
       "      <td>43</td>\n",
       "    </tr>\n",
       "    <tr>\n",
       "      <th>1</th>\n",
       "      <td>1021445</td>\n",
       "      <td>16</td>\n",
       "      <td>1</td>\n",
       "    </tr>\n",
       "    <tr>\n",
       "      <th>2</th>\n",
       "      <td>1021445</td>\n",
       "      <td>28</td>\n",
       "      <td>7</td>\n",
       "    </tr>\n",
       "    <tr>\n",
       "      <th>3</th>\n",
       "      <td>1021445</td>\n",
       "      <td>29</td>\n",
       "      <td>1</td>\n",
       "    </tr>\n",
       "    <tr>\n",
       "      <th>4</th>\n",
       "      <td>1021445</td>\n",
       "      <td>46</td>\n",
       "      <td>1</td>\n",
       "    </tr>\n",
       "  </tbody>\n",
       "</table>\n",
       "</div>"
      ],
      "text/plain": [
       "      user  artist  count\n",
       "0  1021445      12     43\n",
       "1  1021445      16      1\n",
       "2  1021445      28      7\n",
       "3  1021445      29      1\n",
       "4  1021445      46      1"
      ]
     },
     "execution_count": 4,
     "metadata": {},
     "output_type": "execute_result"
    }
   ],
   "source": [
    "# create unique user-artist matrix\n",
    "df_events = df_events.groupby(['user', 'artist']).size().reset_index(name='count')\n",
    "print('No. user-artist pairs: ' + str(len(df_events)))\n",
    "# each row contains a unique user-artist pair, along with how many times the\n",
    "# user has listened to the artist\n",
    "df_events.head()"
   ]
  },
  {
   "cell_type": "code",
   "execution_count": 5,
   "metadata": {},
   "outputs": [
    {
     "name": "stdout",
     "output_type": "stream",
     "text": [
      "No. filtered user-artist pairs: 1755361\n",
      "No. unique artists: 352805\n"
     ]
    }
   ],
   "source": [
    "# filters out artist/user pairs who havent been listened two more than\n",
    "# item_threshold amount of times to reduce\n",
    "# kept mostly to 1 so we dont filter out any data currently\n",
    "df_events = df_events[df_events['count'] >= item_threshold] \n",
    "\n",
    "# With 1, we see no difference between user-artist pairs here\n",
    "print('No. filtered user-artist pairs: ' + str(len(df_events))) \n",
    "\n",
    "# here, we see the number of unique artists in our matrix\n",
    "print('No. unique artists: ' + str(len(df_events['artist'].unique())))"
   ]
  },
  {
   "cell_type": "markdown",
   "metadata": {},
   "source": [
    "#### How many artists have users listened to?"
   ]
  },
  {
   "cell_type": "code",
   "execution_count": 6,
   "metadata": {},
   "outputs": [
    {
     "name": "stdout",
     "output_type": "stream",
     "text": [
      "Mean artists of all users: 585.1203333333333\n",
      "Min artists of all users: 18\n",
      "Max artists of all users: 4011\n"
     ]
    },
    {
     "data": {
      "text/plain": [
       "41888522    4011\n",
       "4393555     3700\n",
       "40029632    3678\n",
       "26874346    3544\n",
       "29736410    3529\n",
       "Name: user, dtype: int64"
      ]
     },
     "execution_count": 6,
     "metadata": {},
     "output_type": "execute_result"
    }
   ],
   "source": [
    "# get matrix where each row is a user-id and how many artists they've \n",
    "#listened to\n",
    "user_dist = df_events['user'].value_counts() \n",
    "\n",
    "# counts how many unique users there are. prints out user id & a count of how \n",
    "# many rows they're included in, which effectively shows how many artists \n",
    "# they listen to\n",
    "num_users = len(user_dist)\n",
    "print('Mean artists of all users: ' + str(user_dist.mean()))\n",
    "print('Min artists of all users: ' + str(user_dist.min()))\n",
    "print('Max artists of all users: ' + str(user_dist.max()))\n",
    "\n",
    "user_dist.head()\n",
    "\n"
   ]
  },
  {
   "cell_type": "markdown",
   "metadata": {},
   "source": [
    "#### How many users listen to an artist?"
   ]
  },
  {
   "cell_type": "code",
   "execution_count": 7,
   "metadata": {},
   "outputs": [
    {
     "name": "stdout",
     "output_type": "stream",
     "text": [
      "No. artists: 352805\n"
     ]
    },
    {
     "data": {
      "text/plain": [
       "<bound method NDFrame.head of 135        1389\n",
       "1602       1359\n",
       "46         1325\n",
       "320        1297\n",
       "27         1290\n",
       "           ... \n",
       "3124286       1\n",
       "1029181       1\n",
       "1023032       1\n",
       "1008679       1\n",
       "3087545       1\n",
       "Name: artist, Length: 352805, dtype: int64>"
      ]
     },
     "execution_count": 7,
     "metadata": {},
     "output_type": "execute_result"
    }
   ],
   "source": [
    "# get artist distribution\n",
    "# same as previous but with artists, shows artist-id and how many times they\n",
    "# were listened to buy unique users\n",
    "artist_dist = df_events['artist'].value_counts()\n",
    "num_artists = len(artist_dist)\n",
    "print('No. artists: ' + str(num_artists))\n",
    "df_events['artist'].value_counts().head"
   ]
  },
  {
   "cell_type": "markdown",
   "metadata": {},
   "source": [
    "### Graphs From Data Parsing"
   ]
  },
  {
   "cell_type": "code",
   "execution_count": 8,
   "metadata": {},
   "outputs": [
    {
     "data": {
      "image/png": "[encoded data removed]",
      "text/plain": [
       "<Figure size 432x288 with 1 Axes>"
      ]
     },
     "metadata": {
      "needs_background": "light"
     },
     "output_type": "display_data"
    }
   ],
   "source": [
    "#plots x,y pairs of each row\n",
    "# x is the artist id, y is the number of listeners \n",
    "# log both axes for feature scaling purposes\n",
    "plot.plot(artist_dist.values)\n",
    "plot.xlabel('Artist id (log)')\n",
    "plot.ylabel('Number of Listeners (log)')\n",
    "plot.xscale(\"log\")\n",
    "plot.yscale(\"log\")"
   ]
  },
  {
   "cell_type": "code",
   "execution_count": 9,
   "metadata": {},
   "outputs": [
    {
     "name": "stdout",
     "output_type": "stream",
     "text": [
      "No. top artists: 70561\n"
     ]
    }
   ],
   "source": [
    "# get number of  popular artists\n",
    "num_top_artists = int(popular_artist_fraction * num_artists)\n",
    "\n",
    "# getting the top top_fraction (0.2) percent of artists, so finding how many\n",
    "# artists make up 20% of total artists, and then only using the artists those\n",
    "#number of the most popular aritsts\n",
    "top_artist_dist = artist_dist[:num_top_artists]\n",
    "print('No. top artists: ' + str(len(top_artist_dist)))"
   ]
  },
  {
   "cell_type": "code",
   "execution_count": 10,
   "metadata": {},
   "outputs": [
    {
     "name": "stdout",
     "output_type": "stream",
     "text": [
      "No. of users: 3000\n"
     ]
    }
   ],
   "source": [
    "# read in users\n",
    "# user file is just user_id and their mainstreaminess value \n",
    "low_users = pd.read_csv(low_user_file, sep=',').set_index('user_id')\n",
    "medium_users = pd.read_csv(medium_user_file, sep=',').set_index('user_id')\n",
    "high_users = pd.read_csv(high_user_file, sep=',').set_index('user_id')\n",
    "no_users = len(low_users) + len(medium_users) + len(high_users)\n",
    "print('No. of users: ' + str(no_users))"
   ]
  },
  {
   "cell_type": "code",
   "execution_count": 11,
   "metadata": {},
   "outputs": [
    {
     "data": {
      "text/html": [
       "<div>\n",
       "<style scoped>\n",
       "    .dataframe tbody tr th:only-of-type {\n",
       "        vertical-align: middle;\n",
       "    }\n",
       "\n",
       "    .dataframe tbody tr th {\n",
       "        vertical-align: top;\n",
       "    }\n",
       "\n",
       "    .dataframe thead th {\n",
       "        text-align: right;\n",
       "    }\n",
       "</style>\n",
       "<table border=\"1\" class=\"dataframe\">\n",
       "  <thead>\n",
       "    <tr style=\"text-align: right;\">\n",
       "      <th></th>\n",
       "      <th>M_global_R_APC</th>\n",
       "    </tr>\n",
       "    <tr>\n",
       "      <th>user_id</th>\n",
       "      <th></th>\n",
       "    </tr>\n",
       "  </thead>\n",
       "  <tbody>\n",
       "    <tr>\n",
       "      <th>20146143</th>\n",
       "      <td>-0.260074</td>\n",
       "    </tr>\n",
       "    <tr>\n",
       "      <th>32463394</th>\n",
       "      <td>-0.253610</td>\n",
       "    </tr>\n",
       "    <tr>\n",
       "      <th>47706954</th>\n",
       "      <td>-0.236572</td>\n",
       "    </tr>\n",
       "    <tr>\n",
       "      <th>19772905</th>\n",
       "      <td>-0.215595</td>\n",
       "    </tr>\n",
       "    <tr>\n",
       "      <th>21128139</th>\n",
       "      <td>-0.199496</td>\n",
       "    </tr>\n",
       "  </tbody>\n",
       "</table>\n",
       "</div>"
      ],
      "text/plain": [
       "          M_global_R_APC\n",
       "user_id                 \n",
       "20146143       -0.260074\n",
       "32463394       -0.253610\n",
       "47706954       -0.236572\n",
       "19772905       -0.215595\n",
       "21128139       -0.199496"
      ]
     },
     "execution_count": 11,
     "metadata": {},
     "output_type": "execute_result"
    }
   ],
   "source": [
    "low_users.head()"
   ]
  },
  {
   "cell_type": "markdown",
   "metadata": {},
   "source": [
    "## Calculating GAP of User Profiles"
   ]
  },
  {
   "cell_type": "code",
   "execution_count": 12,
   "metadata": {},
   "outputs": [
    {
     "name": "stdout",
     "output_type": "stream",
     "text": [
      "Low count (for check): 1000\n",
      "Med count (for check): 1000\n",
      "High count (for check): 1000\n"
     ]
    }
   ],
   "source": [
    "# get popularity metrics\n",
    "pop_count = [] # number of top items per user\n",
    "user_hist = [] # user history sizes\n",
    "pop_fraq = [] # relative number of top items per user\n",
    "pop_artist_fraq = [] # average popularity of items in user profiles\n",
    "low_profile_size = 0\n",
    "low_gap_p = 0\n",
    "medium_profile_size = 0\n",
    "medium_gap_p = 0\n",
    "high_profile_size = 0\n",
    "high_gap_p = 0\n",
    "low_count = 0\n",
    "med_count = 0\n",
    "high_count = 0\n",
    "for u, df in df_events.groupby('user'):\n",
    "    no_user_artists = len(set(df['artist'])) # profile size //number of artists in users profile\n",
    "    # top items in profile //top percent of pop artists in users profile\n",
    "    no_user_pop_artists = len(set(df['artist']) & set(top_artist_dist.index)) \n",
    "    pop_count.append(no_user_pop_artists) # adds users # of pop artists to a list \n",
    "    user_hist.append(no_user_artists) #sizes of users listening histories\n",
    "    pop_fraq.append(no_user_pop_artists / no_user_artists) #fraction of pop items in profile / total items\n",
    "    # get popularity (= fraction of users interacted with item) of user items and calculate average of it\n",
    "    user_pop_artist_fraq = sum(artist_dist[df['artist']] / no_users) / no_user_artists\n",
    "    pop_artist_fraq.append(user_pop_artist_fraq)\n",
    "    if u in low_users.index: # get user group-specific values\n",
    "        low_profile_size += no_user_artists\n",
    "        low_gap_p += user_pop_artist_fraq\n",
    "        low_count += 1\n",
    "    elif u in medium_users.index:\n",
    "        medium_profile_size += no_user_artists\n",
    "        medium_gap_p += user_pop_artist_fraq\n",
    "        med_count += 1\n",
    "    else:\n",
    "        high_profile_size += no_user_artists\n",
    "        high_gap_p += user_pop_artist_fraq\n",
    "        high_count += 1\n",
    "low_profile_size /= len(low_users)\n",
    "medium_profile_size /= len(medium_users)\n",
    "high_profile_size /= len(high_users)\n",
    "low_gap_p /= len(low_users) # average popularity of items/artists in low/med/high groups (gap = group average popularity)\n",
    "medium_gap_p /= len(medium_users)\n",
    "high_gap_p /= len(high_users)\n",
    "print('Low count (for check): ' + str(low_count))\n",
    "print('Med count (for check): ' + str(med_count))\n",
    "print('High count (for check): ' + str(high_count))\n"
   ]
  },
  {
   "cell_type": "code",
   "execution_count": 59,
   "metadata": {},
   "outputs": [
    {
     "data": {
      "text/plain": [
       "<matplotlib.legend.Legend at 0x2cac58a9d60>"
      ]
     },
     "execution_count": 59,
     "metadata": {},
     "output_type": "execute_result"
    },
    {
     "data": {
      "image/png": "[encoded data removed]",
      "text/plain": [
       "<Figure size 432x288 with 1 Axes>"
      ]
     },
     "metadata": {
      "needs_background": "light"
     },
     "output_type": "display_data"
    }
   ],
   "source": [
    "# Plot of how many popular artists are in each user profile\n",
    "plot.figure()\n",
    "plot.plot(sorted(pop_fraq))\n",
    "plot.xlabel('User')\n",
    "plot.ylabel('Ratio of popular artists')\n",
    "plot.axhline(y=0.8, color='black', linestyle='--', label='80% ratio of popular artists')\n",
    "plot.legend()"
   ]
  },
  {
   "cell_type": "code",
   "execution_count": 14,
   "metadata": {},
   "outputs": [
    {
     "data": {
      "text/plain": [
       "Text(0, 0.5, 'Number of popular artists')"
      ]
     },
     "execution_count": 14,
     "metadata": {},
     "output_type": "execute_result"
    },
    {
     "data": {
      "image/png": "[encoded data removed]",
      "text/plain": [
       "<Figure size 432x288 with 1 Axes>"
      ]
     },
     "metadata": {
      "needs_background": "light"
     },
     "output_type": "display_data"
    }
   ],
   "source": [
    "# Plot of profile size vs the number of popular artists in it\n",
    "plot.figure()\n",
    "plot.plot(user_hist, pop_count, 'o')\n",
    "plot.xlabel('User profile size', )\n",
    "plot.ylabel('Number of popular artists')"
   ]
  },
  {
   "cell_type": "code",
   "execution_count": 15,
   "metadata": {},
   "outputs": [
    {
     "data": {
      "text/plain": [
       "Text(0, 0.5, 'Average popularity of artists')"
      ]
     },
     "execution_count": 15,
     "metadata": {},
     "output_type": "execute_result"
    },
    {
     "data": {
      "image/png": "[encoded data removed]",
      "text/plain": [
       "<Figure size 432x288 with 1 Axes>"
      ]
     },
     "metadata": {
      "needs_background": "light"
     },
     "output_type": "display_data"
    }
   ],
   "source": [
    "# plot of profile size vs the average popularity of artists in it\n",
    "plot.figure()\n",
    "plot.plot(user_hist, pop_artist_fraq, 'o')\n",
    "plot.xlabel('User profile size')\n",
    "plot.ylabel('Average popularity of artists')"
   ]
  },
  {
   "cell_type": "code",
   "execution_count": 16,
   "metadata": {},
   "outputs": [
    {
     "name": "stdout",
     "output_type": "stream",
     "text": [
      "Average LowMS profile size: 499.892\n",
      "Average MedMS profile size: 715.669\n",
      "Average HighMS profile size: 539.8\n"
     ]
    }
   ],
   "source": [
    "# Average number of artists in a user profile\n",
    "print('Average LowMS profile size: ' + str(low_profile_size))\n",
    "print('Average MedMS profile size: ' + str(medium_profile_size))\n",
    "print('Average HighMS profile size: ' + str(high_profile_size))"
   ]
  },
  {
   "cell_type": "markdown",
   "metadata": {},
   "source": [
    "### Min-Max Scaling Ratings"
   ]
  },
  {
   "cell_type": "code",
   "execution_count": 18,
   "metadata": {},
   "outputs": [
    {
     "data": {
      "text/html": [
       "<div>\n",
       "<style scoped>\n",
       "    .dataframe tbody tr th:only-of-type {\n",
       "        vertical-align: middle;\n",
       "    }\n",
       "\n",
       "    .dataframe tbody tr th {\n",
       "        vertical-align: top;\n",
       "    }\n",
       "\n",
       "    .dataframe thead th {\n",
       "        text-align: right;\n",
       "    }\n",
       "</style>\n",
       "<table border=\"1\" class=\"dataframe\">\n",
       "  <thead>\n",
       "    <tr style=\"text-align: right;\">\n",
       "      <th></th>\n",
       "      <th>user</th>\n",
       "      <th>artist</th>\n",
       "      <th>count</th>\n",
       "    </tr>\n",
       "  </thead>\n",
       "  <tbody>\n",
       "    <tr>\n",
       "      <th>0</th>\n",
       "      <td>1021445</td>\n",
       "      <td>12</td>\n",
       "      <td>184.222707</td>\n",
       "    </tr>\n",
       "    <tr>\n",
       "      <th>1</th>\n",
       "      <td>1021445</td>\n",
       "      <td>16</td>\n",
       "      <td>1.000000</td>\n",
       "    </tr>\n",
       "    <tr>\n",
       "      <th>2</th>\n",
       "      <td>1021445</td>\n",
       "      <td>28</td>\n",
       "      <td>27.174672</td>\n",
       "    </tr>\n",
       "    <tr>\n",
       "      <th>3</th>\n",
       "      <td>1021445</td>\n",
       "      <td>29</td>\n",
       "      <td>1.000000</td>\n",
       "    </tr>\n",
       "    <tr>\n",
       "      <th>4</th>\n",
       "      <td>1021445</td>\n",
       "      <td>46</td>\n",
       "      <td>1.000000</td>\n",
       "    </tr>\n",
       "  </tbody>\n",
       "</table>\n",
       "</div>"
      ],
      "text/plain": [
       "      user  artist       count\n",
       "0  1021445      12  184.222707\n",
       "1  1021445      16    1.000000\n",
       "2  1021445      28   27.174672\n",
       "3  1021445      29    1.000000\n",
       "4  1021445      46    1.000000"
      ]
     },
     "execution_count": 18,
     "metadata": {},
     "output_type": "execute_result"
    }
   ],
   "source": [
    "### Figure out how to scale listening count\n",
    "scaled_df_events = pd.DataFrame()\n",
    "for user_id, group in df_events.groupby('user'):\n",
    "    #print(group)\n",
    "    min_listens = group['count'].min()\n",
    "    max_listens = group['count'].max()\n",
    "    std = (group['count'] - min_listens) / (max_listens - min_listens)\n",
    "    scaled_listens = std * 999 + 1\n",
    "    to_replace = group.copy()\n",
    "    to_replace['count'] = scaled_listens\n",
    "    #print(to_replace)\n",
    "    scaled_df_events = scaled_df_events.append(to_replace)\n",
    "scaled_df_events.head()   \n",
    "#df_events.groupby('user').head()\n",
    "#pogChamp"
   ]
  },
  {
   "cell_type": "code",
   "execution_count": 19,
   "metadata": {},
   "outputs": [
    {
     "data": {
      "text/html": [
       "<div>\n",
       "<style scoped>\n",
       "    .dataframe tbody tr th:only-of-type {\n",
       "        vertical-align: middle;\n",
       "    }\n",
       "\n",
       "    .dataframe tbody tr th {\n",
       "        vertical-align: top;\n",
       "    }\n",
       "\n",
       "    .dataframe thead th {\n",
       "        text-align: right;\n",
       "    }\n",
       "</style>\n",
       "<table border=\"1\" class=\"dataframe\">\n",
       "  <thead>\n",
       "    <tr style=\"text-align: right;\">\n",
       "      <th></th>\n",
       "      <th>user</th>\n",
       "      <th>artist</th>\n",
       "      <th>count</th>\n",
       "    </tr>\n",
       "  </thead>\n",
       "  <tbody>\n",
       "    <tr>\n",
       "      <th>0</th>\n",
       "      <td>1021445</td>\n",
       "      <td>12</td>\n",
       "      <td>184.222707</td>\n",
       "    </tr>\n",
       "    <tr>\n",
       "      <th>1</th>\n",
       "      <td>1021445</td>\n",
       "      <td>16</td>\n",
       "      <td>1.000000</td>\n",
       "    </tr>\n",
       "    <tr>\n",
       "      <th>2</th>\n",
       "      <td>1021445</td>\n",
       "      <td>28</td>\n",
       "      <td>27.174672</td>\n",
       "    </tr>\n",
       "    <tr>\n",
       "      <th>3</th>\n",
       "      <td>1021445</td>\n",
       "      <td>29</td>\n",
       "      <td>1.000000</td>\n",
       "    </tr>\n",
       "    <tr>\n",
       "      <th>4</th>\n",
       "      <td>1021445</td>\n",
       "      <td>46</td>\n",
       "      <td>1.000000</td>\n",
       "    </tr>\n",
       "  </tbody>\n",
       "</table>\n",
       "</div>"
      ],
      "text/plain": [
       "      user  artist       count\n",
       "0  1021445      12  184.222707\n",
       "1  1021445      16    1.000000\n",
       "2  1021445      28   27.174672\n",
       "3  1021445      29    1.000000\n",
       "4  1021445      46    1.000000"
      ]
     },
     "execution_count": 19,
     "metadata": {},
     "output_type": "execute_result"
    }
   ],
   "source": [
    "scaled_df_events.head()"
   ]
  },
  {
   "cell_type": "code",
   "execution_count": 20,
   "metadata": {},
   "outputs": [
    {
     "name": "stdout",
     "output_type": "stream",
     "text": [
      "Min rating: 1.0\n",
      "Max rating: 1000.0\n"
     ]
    }
   ],
   "source": [
    "df_events = scaled_df_events\n",
    "print('Min rating: ' + str(df_events['count'].min()))\n",
    "print('Max rating: ' + str(df_events['count'].max()))"
   ]
  },
  {
   "cell_type": "markdown",
   "metadata": {},
   "source": [
    "# Explicit Recommendations with Surprise"
   ]
  },
  {
   "cell_type": "code",
   "execution_count": 21,
   "metadata": {},
   "outputs": [],
   "source": [
    "# reading in data into a form that surprise can work with\n",
    "reader = Reader(rating_scale=(1,1000))\n",
    "data = Dataset.load_from_df(df_events,reader)"
   ]
  },
  {
   "cell_type": "code",
   "execution_count": 22,
   "metadata": {},
   "outputs": [],
   "source": [
    "# 80/20 train/test split\n",
    "# to my knowledge random_state doesnt matter as long as its some number?\n",
    "trainset, testset = train_test_split(data, test_size = 0.2, random_state=5) "
   ]
  },
  {
   "cell_type": "code",
   "execution_count": 60,
   "metadata": {},
   "outputs": [],
   "source": [
    "def get_top_artists(predictions, num=10):\n",
    "    \"\"\"Return the top-N recommendation for each user from a set of predictions.\n",
    "\n",
    "    Args:\n",
    "        predictions(list of Prediction objects): The list of predictions, as\n",
    "            returned by the test method of an algorithm.\n",
    "        n(int): The number of recommendation to output for each user. Default\n",
    "            is 10.\n",
    "\n",
    "    Returns:\n",
    "    A dict where keys are user (raw) ids and values are lists of tuples:\n",
    "        [(raw item id, rating estimation), ...] of size n.\n",
    "    \"\"\"\n",
    "    top_artists_dict = defaultdict(list)\n",
    "        # creating dictionary where user id is the key, and the val is a list of tuples of the artist id and \n",
    "        # the rating it thinks the user would give it\n",
    "        \n",
    "    for user_id, artist_id, actual_val, predicted_val, details in predictions:\n",
    "        top_artists_dict[user_id].append((artist_id,predicted_val))\n",
    "        \n",
    "    #sorts user ratings based off of the predicted val rating and get the top n rated artists\n",
    "    \n",
    "    for user_id, ratings in top_artists_dict.items():\n",
    "        ratings.sort(key = lambda x: x[1], reverse=True)\n",
    "        top_artists_dict[user_id] = ratings[:num]\n",
    "    return top_artists_dict\n",
    "        \n",
    "        "
   ]
  },
  {
   "cell_type": "code",
   "execution_count": 24,
   "metadata": {},
   "outputs": [],
   "source": [
    "# Given list of predictions, prints out the Mean Absolute Error of each of the 3 groups\n",
    "def get_mae_of_groups(predictions):\n",
    "    predictions_low = []\n",
    "    predictions_medium = []\n",
    "    predictions_high = []\n",
    "    \n",
    "    for prediction_obj in predictions:\n",
    "        if prediction_obj.uid in low_users.index:\n",
    "            predictions_low.append(prediction_obj)\n",
    "            \n",
    "        elif prediction_obj.uid in medium_users.index:\n",
    "            predictions_medium.append(prediction_obj)\n",
    "            \n",
    "        elif prediction_obj.uid in high_users.index:\n",
    "            predictions_high.append(prediction_obj)\n",
    "        \n",
    "    mae_low = accuracy.mae(predictions_low)\n",
    "    mae_medium = accuracy.mae(predictions_medium)\n",
    "    mae_high = accuracy.mae(predictions_high)\n",
    "            \n",
    "    print(\"Low Predictions:\", mae_low)\n",
    "    print(\"Med Predictions: \", mae_medium)\n",
    "    print(\"High Predictions: \", mae_high)\n",
    "    \n",
    "    return mae_low, mae_medium, mae_high\n",
    "            "
   ]
  },
  {
   "cell_type": "code",
   "execution_count": 38,
   "metadata": {},
   "outputs": [],
   "source": [
    "#Normalize data to compare artist popularity vs recommendations\n",
    "#Normalize artist popularity\n",
    "normalized_artist_dist = pd.DataFrame(artist_dist)\n",
    "normalized_artist_dist.columns = ['count']\n",
    "normalized_artist_dist['count'] /= no_users\n",
    "normalized_artist_dist.head()\n",
    "\n",
    "num_times_recommended = pd.DataFrame(artist_dist)\n",
    "num_times_recommended.columns = ['Recommendation Frequency']\n",
    "num_times_recommended['Recommendation Frequency'] = 0\n",
    "#num_times_recommended.head()\n",
    "#normalized_artist_dist.head()"
   ]
  },
  {
   "cell_type": "code",
   "execution_count": 45,
   "metadata": {},
   "outputs": [
    {
     "name": "stdout",
     "output_type": "stream",
     "text": [
      "Estimating biases using als...\n",
      "MAE:  38.6072\n",
      "MAE:  43.0801\n",
      "MAE:  34.2366\n",
      "MAE:  40.2892\n",
      "Low Predictions: 43.0800838064358\n",
      "Med Predictions:  34.23659494771558\n",
      "High Predictions:  40.28919680447999\n",
      "Computing the msd similarity matrix...\n",
      "Done computing similarity matrix.\n",
      "MAE:  40.9703\n",
      "MAE:  44.1929\n",
      "MAE:  37.6784\n",
      "MAE:  42.3732\n",
      "Low Predictions: 44.192923351494564\n",
      "Med Predictions:  37.67837716559355\n",
      "High Predictions:  42.373167653250896\n",
      "Computing the msd similarity matrix...\n",
      "Done computing similarity matrix.\n",
      "MAE:  40.9874\n",
      "MAE:  44.5846\n",
      "MAE:  37.0122\n",
      "MAE:  42.9546\n",
      "Low Predictions: 44.58456498707713\n",
      "Med Predictions:  37.012233456983786\n",
      "High Predictions:  42.95457468105368\n",
      "MAE:  34.9147\n",
      "MAE:  38.6164\n",
      "MAE:  31.0188\n",
      "MAE:  36.6789\n",
      "Low Predictions: 38.61641868446903\n",
      "Med Predictions:  31.018814780674806\n",
      "High Predictions:  36.67885707183786\n"
     ]
    }
   ],
   "source": [
    "# Train and test the four algorithms on our data set\n",
    "low_gap_r_list = []\n",
    "medium_gap_r_list = []\n",
    "high_gap_r_list = []\n",
    "#keeps track of the GAPr of each of the algs\n",
    "\n",
    "low_mae_list = []\n",
    "medium_mae_list = []\n",
    "high_mae_list = []\n",
    "overall_mae_list = []\n",
    "#keeps track of the mean absolute error of each of the algs\n",
    "alg_recommendations = [] #Keeps track of how many times each artist was recommended\n",
    "for alg in [ BaselineOnly(), KNNBasic(sim_options = {'name': 'msd'}), KNNWithMeans(), NMF()]:\n",
    "    \n",
    "    num_times_recommended = pd.DataFrame(artist_dist)\n",
    "    num_times_recommended.columns = ['Recommendation Frequency']\n",
    "    num_times_recommended['Recommendation Frequency'] = 0 #resets for each algorithm\n",
    "    \n",
    "    base = alg.fit(trainset)\n",
    "    predictions = base.test(testset)\n",
    "    overall_mae = accuracy.mae(predictions)\n",
    "    \n",
    "    # resets to 0 before calculating for new alg\n",
    "    low_gap_r = 0\n",
    "    medium_gap_r = 0\n",
    "    high_gap_r = 0\n",
    "    \n",
    "    #keeps track of group size since it is unpredictable since the test set is selected randomly\n",
    "    num_low_users = 0\n",
    "    num_medium_users = 0\n",
    "    num_high_users = 0\n",
    "    \n",
    "    #keeps track of the mean absolute error of the current alg\n",
    "    low_mae = 0\n",
    "    medium_mae = 0\n",
    "    high_mae = 0\n",
    "    top_artists = get_top_artists(predictions, num=10) #Gets the top N recommendations for each user\n",
    "    low_mae, medium_mae, high_mae = get_mae_of_groups(predictions)\n",
    "    \n",
    "    low_mae_list.append(low_mae)\n",
    "    medium_mae_list.append(medium_mae)\n",
    "    high_mae_list.append(high_mae)\n",
    "    overall_mae_list.append(overall_mae)\n",
    "\n",
    "    for user_id, ratings in top_artists.items():\n",
    "        artist_id_list = [] #user profile size to compute top fraction in GAPr\n",
    "        for artist_id, predicted_rating in ratings:\n",
    "            \n",
    "            artist_id_list.append(artist_id)\n",
    "            num_times_recommended.loc[artist_id] += 1 #increments the number of times the artist was recommended\n",
    "\n",
    "        gap = sum(artist_dist[artist_id_list]/ no_users) / len(artist_id_list) #fraction in numerator for GAPr\n",
    "        #print(\"gap:\" ,gap)\n",
    "        if user_id in low_users.index: #summation of all of the top fractions to compute numerator for GAPr\n",
    "            low_gap_r += gap\n",
    "            num_low_users += 1 #increments group size to get the denominator to compute GAPr\n",
    "\n",
    "        elif user_id in medium_users.index:\n",
    "            medium_gap_r += gap\n",
    "            num_medium_users += 1\n",
    "\n",
    "        elif user_id in high_users.index:\n",
    "            high_gap_r += gap\n",
    "            num_high_users += 1\n",
    "    alg_recommendations.append(num_times_recommended)\n",
    "            \n",
    "    low_gap_r = low_gap_r / num_low_users #Computing GAPr for each group size for each algorithm\n",
    "    medium_gap_r = medium_gap_r / num_medium_users\n",
    "    high_gap_r = high_gap_r / num_high_users\n",
    "    \n",
    "    low_gap_r_list.append(low_gap_r)\n",
    "    medium_gap_r_list.append(medium_gap_r)\n",
    "    high_gap_r_list.append(high_gap_r)\n",
    "\n",
    "    \n",
    "\n",
    "\n",
    "    "
   ]
  },
  {
   "cell_type": "markdown",
   "metadata": {},
   "source": [
    "## Graphs based on RecSys algorithms"
   ]
  },
  {
   "cell_type": "code",
   "execution_count": 46,
   "metadata": {},
   "outputs": [
    {
     "data": {
      "image/png": "[encoded data removed]",
      "text/plain": [
       "<Figure size 432x288 with 1 Axes>"
      ]
     },
     "metadata": {
      "needs_background": "light"
     },
     "output_type": "display_data"
    },
    {
     "data": {
      "image/png": "[encoded data removed]",
      "text/plain": [
       "<Figure size 432x288 with 1 Axes>"
      ]
     },
     "metadata": {
      "needs_background": "light"
     },
     "output_type": "display_data"
    },
    {
     "data": {
      "image/png": "[encoded data removed]",
      "text/plain": [
       "<Figure size 432x288 with 1 Axes>"
      ]
     },
     "metadata": {
      "needs_background": "light"
     },
     "output_type": "display_data"
    },
    {
     "data": {
      "image/png": "[encoded data removed]",
      "text/plain": [
       "<Figure size 432x288 with 1 Axes>"
      ]
     },
     "metadata": {
      "needs_background": "light"
     },
     "output_type": "display_data"
    }
   ],
   "source": [
    "#Create graphs of  the correlation of artist popularity and recommendation frequency\n",
    "alg_names = ['Baseline', 'KNN', 'KNNMeans', 'NMF']\n",
    "\n",
    "for i in range(len(alg_names)):\n",
    "    plot.figure()\n",
    "    plot.plot(normalized_artist_dist, alg_recommendations[i], 'o')\n",
    "    plot.xlabel(\"Artist Popuarity (Normalized)\")\n",
    "    plot.ylabel(\"Recommendation Frequency\")\n",
    "    plot.title(alg_names[i])\n",
    "    plot.ylim([0,300])\n",
    "    plot.show()\n",
    "    "
   ]
  },
  {
   "cell_type": "code",
   "execution_count": 61,
   "metadata": {},
   "outputs": [],
   "source": [
    "#Computes change in GAP for each RecSys alg\n",
    "delta_gap_low_list = []\n",
    "delta_gap_medium_list = []\n",
    "delta_gap_high_list = []\n",
    "for i in range(len(low_gap_r_list)):\n",
    "    delta_gap_low = ((low_gap_r_list[i] - low_gap_p) / low_gap_p)\n",
    "    delta_gap_medium = ((medium_gap_r_list[i] - medium_gap_p) / medium_gap_p)\n",
    "    delta_gap_high = ((high_gap_r_list[i] - high_gap_p) / high_gap_p)\n",
    "    \n",
    "    delta_gap_low_list.append(delta_gap_low)\n",
    "    delta_gap_medium_list.append(delta_gap_medium)\n",
    "    delta_gap_high_list.append(delta_gap_high)\n"
   ]
  },
  {
   "cell_type": "code",
   "execution_count": 57,
   "metadata": {},
   "outputs": [
    {
     "data": {
      "image/png": "[encoded data removed]",
      "text/plain": [
       "<Figure size 432x288 with 1 Axes>"
      ]
     },
     "metadata": {
      "needs_background": "light"
     },
     "output_type": "display_data"
    }
   ],
   "source": [
    "# Bar graph for comparing Delta GAP for each algorithm\n",
    "x_labels = [\"LowMS\", \"MedMS\", \"HighMS\"]\n",
    "width = 0.15\n",
    "\n",
    "bar1 = [delta_gap_low_list[0] * 100, delta_gap_medium_list[0] * 100, delta_gap_high_list[0]* 100]\n",
    "bar2 = [delta_gap_low_list[1] * 100, delta_gap_medium_list[1] * 100, delta_gap_high_list[1] * 100]\n",
    "bar3 = [delta_gap_low_list[2] * 100, delta_gap_medium_list[2] * 100, delta_gap_high_list[2] * 100]\n",
    "bar4 = [delta_gap_low_list[3] * 100, delta_gap_medium_list[3] * 100, delta_gap_high_list[3] * 100]\n",
    "\n",
    "x1 = np.arange(3) #low/md/and high\n",
    "x2 = [i+width for i in x1]\n",
    "x3 = [i+width for i in x2]\n",
    "x4 = [i+width for i in x3]\n",
    "plot.bar(x1, bar1, width = 0.15, label =\"Baseline\")\n",
    "plot.bar(x2, bar2, width = 0.15, label =\"KNN\")\n",
    "plot.bar(x3, bar3, width = 0.15, label =\"KNNMeans\")\n",
    "plot.bar(x4, bar4, width = 0.15, label =\"NMF\")\n",
    "\n",
    "plot.xlabel(\"User Group\")\n",
    "plot.ylabel(\"Change in GAP %\")\n",
    "plot.legend(bbox_to_anchor=(1,1), loc=\"upper left\", ncol=1)\n",
    "plot.xticks(x1 + width, x_labels)\n",
    "plot.show()"
   ]
  },
  {
   "cell_type": "code",
   "execution_count": 56,
   "metadata": {},
   "outputs": [
    {
     "data": {
      "image/png": "[encoded data removed]",
      "text/plain": [
       "<Figure size 432x288 with 1 Axes>"
      ]
     },
     "metadata": {
      "needs_background": "light"
     },
     "output_type": "display_data"
    }
   ],
   "source": [
    "# bar graph comparing the GAP of each alg + the actual GAP on the dataset\n",
    "x_labels = [\"LowMS\", \"MedMS\", \"HighMS\"]\n",
    "bar1 = [low_gap_p * 100, medium_gap_p * 100, high_gap_p * 100]\n",
    "bar2 = [low_gap_r_list[0] * 100, medium_gap_r_list[0] * 100, high_gap_r_list[0] * 100]\n",
    "bar3 = [low_gap_r_list[1] * 100, medium_gap_r_list[1] * 100, high_gap_r_list[1] * 100]\n",
    "bar4 = [low_gap_r_list[2] * 100, medium_gap_r_list[2] * 100, high_gap_r_list[2] * 100]\n",
    "bar5 = [low_gap_r_list[3] * 100, medium_gap_r_list[3] * 100, high_gap_r_list[3] * 100]\n",
    "\n",
    "x1 = np.arange(3) #low/md/and high\n",
    "x2 = [i+width for i in x1]\n",
    "x3 = [i+width for i in x2]\n",
    "x4 = [i+width for i in x3]\n",
    "x5 = [i+width for i in x4]\n",
    "plot.bar(x1, bar1, width = 0.15, label =\"Actual\")\n",
    "plot.bar(x2, bar2, width = 0.15, label =\"Baseline\")\n",
    "plot.bar(x3, bar3, width = 0.15, label =\"KNN\")\n",
    "plot.bar(x4, bar4, width = 0.15, label =\"KNNMeans\")\n",
    "plot.bar(x5, bar5, width = 0.15, label =\"NMF\")\n",
    "\n",
    "plot.xlabel(\"User Group\")\n",
    "plot.ylabel(\"Average Popularity of Artists (GAP) %\")\n",
    "plot.legend(bbox_to_anchor=(1,1), loc=\"upper left\", ncol=1)\n",
    "plot.xticks(x1 + width, x_labels)\n",
    "plot.show()"
   ]
  }
 ],
 "metadata": {
  "kernelspec": {
   "display_name": "Python 3",
   "language": "python",
   "name": "python3"
  },
  "language_info": {
   "codemirror_mode": {
    "name": "ipython",
    "version": 3
   },
   "file_extension": ".py",
   "mimetype": "text/x-python",
   "name": "python",
   "nbconvert_exporter": "python",
   "pygments_lexer": "ipython3",
   "version": "3.8.5"
  }
 },
 "nbformat": 4,
 "nbformat_minor": 4
}
