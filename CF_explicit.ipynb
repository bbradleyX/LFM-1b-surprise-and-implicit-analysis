{
 "cells": [
  {
   "cell_type": "markdown",
   "metadata": {
    "pycharm": {
     "name": "#%% md\n"
    }
   },
   "source": [
    "# Anomalous Resource Access with Collaborative Filtering Algorithm Analysis\n",
    "###### by: Bria Bradley 12/14/20\n",
    "<p class=\"lead\">This <a href=\"https://jupyter.org/\">Jupyter notebook</a>\n",
    "shows a basic implementation of k-NN algorithms via Surprise Lib in order to perform\n",
    "collaborative filtering and anomaly detection on theLastFM-1Billion dataset (LFM), a dataset of 1 billion unique user listening events. </p>\n",
    "\n",
    "<i>Experimental Setup: Explain how recommendation systems can be used to find anomalous resource access.</i>\n",
    "<br>\n",
    "<div class=\"alert alert-warning\">\n",
    "This project is based on research from <a href=\"http://www.cp.jku.at/people/schedl/Research/Publications/pdf/schedl_icmr_2016.pdf\">\n",
    "The LFM-1b Dataset for Music Retrieval and Recommendation</a> and <a href=https://www.researchgate.net/profile/Dominik_Kowald/publication/337885099_The_Unfairness_of_Popularity_Bias_in_Music_Recommendation_A_Reproducibility_Study/links/5e709d4e92851c47458fe7f6/The-Unfairness-of-Popularity-Bias-in-Music-Recommendation-A-Reproducibility-Study.pdf>\n",
    "The Unfairness of Popularity Bias in Music Recommendation: A Reproducibility Study.</a></div>\n",
    "<br>\n",
    "<div class=\"alert alert-block alert-info\">\n",
    "<b>NOTE:</b> Uploading data files is only necessary when running the notebook online. Be sure to use the data set\n",
    "from the folder labeled <i><b><a href=\"https://zenodo.org/record/3475975#.XZ7erWbgpPZ\">'data'</a><b/><i/>.\n",
    "</div>"
   ]
  },
  {
   "cell_type": "markdown",
   "metadata": {
    "pycharm": {
     "name": "#%% md\n"
    }
   },
   "source": [
    "<br>\n",
    "<p class=\"lead\">The use of the following imports will\n",
    "allow us to run RecSys algorithms and accuracy metrics, as well as perform Anomaly Detection.</p>"
   ]
  },
  {
   "cell_type": "code",
   "execution_count": 142,
   "metadata": {
    "pycharm": {
     "name": "#%%\n"
    }
   },
   "outputs": [],
   "source": [
    "#Scientific and vector computation for python\n",
    "import numpy as np\n",
    "#Pandas dataframe helps load a custom dataset\n",
    "import pandas as pd\n",
    "#Surprise Library, a Python scikit for building and analyzing recommender systems that deal with explicit rating data, imports\n",
    "from pandas import DataFrame\n",
    "from surprise import Reader\n",
    "from surprise import Dataset\n",
    "from surprise.model_selection import cross_validate\n",
    "from surprise import KNNBasic\n",
    "from surprise import KNNWithMeans\n",
    "from surprise import KNNWithZScore\n",
    "from surprise import KNNBaseline\n",
    "from surprise import BaselineOnly\n",
    "from surprise.accuracy import rmse\n",
    "from surprise import accuracy\n",
    "from surprise.model_selection import train_test_split\n",
    "\n",
    "#Scikit-Learn Tools\n",
    "from sklearn.ensemble import IsolationForest\n",
    "import matplotlib.pyplot as plt\n",
    "#from pyod.models.knn import KNN\n",
    "from sklearn.preprocessing import MinMaxScaler\n",
    "\n",
    "from scipy import stats\n",
    "\n",
    "import seaborn as sns\n",
    "\n"
   ]
  },
  {
   "cell_type": "markdown",
   "metadata": {
    "pycharm": {
     "name": "#%% md\n"
    }
   },
   "source": [
    "## Data Distribution\n",
    "### Upload LFM file and Display Dataset\n",
    "\n",
    "<div class=\"alert alert-block alert-warning\">\n",
    "<i>May take a long time running....comment out data distribution section (ex. .info(), .head(), and.describe() methods) to skip ahead to the algorithm analysis section<i/>.\n",
    "</div>"
   ]
  },
  {
   "cell_type": "code",
   "execution_count": 2,
   "metadata": {
    "pycharm": {
     "name": "#%%\n"
    }
   },
   "outputs": [],
   "source": [
    "user_att = pd.read_csv('D:\\LFM\\LFM-1b_users_additional.txt', sep='\\t')"
   ]
  },
  {
   "cell_type": "code",
   "execution_count": 3,
   "metadata": {
    "pycharm": {
     "name": "#%%\n"
    }
   },
   "outputs": [
    {
     "data": {
      "text/plain": "   user-id novelty_artist_avg_month  novelty_artist_avg_6months  \\\n0      384      0.27662877856116547                    0.044439   \n1     1206      0.43722350196912885                    0.109671   \n\n  novelty_artist_avg_year  mainstreaminess_avg_month  \\\n0      0.3094285950064659                   0.024655   \n1      0.5137868970632553                   0.181991   \n\n  mainstreaminess_avg_6months  mainstreaminess_avg_year  \\\n0         0.36734262481331825                       0.0   \n1          0.3913043439388275                       0.0   \n\n   mainstreaminess_global  cnt_listeningevents  cnt_distinct_tracks  ...  \\\n0                0.124903                17198                 3601  ...   \n1                0.343855                17967                10990  ...   \n\n   relative_le_per_hour14  relative_le_per_hour15 relative_le_per_hour16  \\\n0                  0.0279                   0.041                 0.0811   \n1                  0.0016                  0.0115                 0.0276   \n\n  relative_le_per_hour17 relative_le_per_hour18 relative_le_per_hour19  \\\n0                 0.1506                 0.0377                 0.0298   \n1                 0.0662                  0.079                 0.0838   \n\n  relative_le_per_hour20 relative_le_per_hour21 relative_le_per_hour22  \\\n0                 0.0132                 0.0007                 0.0001   \n1                 0.0995                 0.1195                 0.0968   \n\n  relative_le_per_hour23  \n0                 0.0151  \n1                 0.0839  \n\n[2 rows x 43 columns]",
      "text/html": "<div>\n<style scoped>\n    .dataframe tbody tr th:only-of-type {\n        vertical-align: middle;\n    }\n\n    .dataframe tbody tr th {\n        vertical-align: top;\n    }\n\n    .dataframe thead th {\n        text-align: right;\n    }\n</style>\n<table border=\"1\" class=\"dataframe\">\n  <thead>\n    <tr style=\"text-align: right;\">\n      <th></th>\n      <th>user-id</th>\n      <th>novelty_artist_avg_month</th>\n      <th>novelty_artist_avg_6months</th>\n      <th>novelty_artist_avg_year</th>\n      <th>mainstreaminess_avg_month</th>\n      <th>mainstreaminess_avg_6months</th>\n      <th>mainstreaminess_avg_year</th>\n      <th>mainstreaminess_global</th>\n      <th>cnt_listeningevents</th>\n      <th>cnt_distinct_tracks</th>\n      <th>...</th>\n      <th>relative_le_per_hour14</th>\n      <th>relative_le_per_hour15</th>\n      <th>relative_le_per_hour16</th>\n      <th>relative_le_per_hour17</th>\n      <th>relative_le_per_hour18</th>\n      <th>relative_le_per_hour19</th>\n      <th>relative_le_per_hour20</th>\n      <th>relative_le_per_hour21</th>\n      <th>relative_le_per_hour22</th>\n      <th>relative_le_per_hour23</th>\n    </tr>\n  </thead>\n  <tbody>\n    <tr>\n      <th>0</th>\n      <td>384</td>\n      <td>0.27662877856116547</td>\n      <td>0.044439</td>\n      <td>0.3094285950064659</td>\n      <td>0.024655</td>\n      <td>0.36734262481331825</td>\n      <td>0.0</td>\n      <td>0.124903</td>\n      <td>17198</td>\n      <td>3601</td>\n      <td>...</td>\n      <td>0.0279</td>\n      <td>0.041</td>\n      <td>0.0811</td>\n      <td>0.1506</td>\n      <td>0.0377</td>\n      <td>0.0298</td>\n      <td>0.0132</td>\n      <td>0.0007</td>\n      <td>0.0001</td>\n      <td>0.0151</td>\n    </tr>\n    <tr>\n      <th>1</th>\n      <td>1206</td>\n      <td>0.43722350196912885</td>\n      <td>0.109671</td>\n      <td>0.5137868970632553</td>\n      <td>0.181991</td>\n      <td>0.3913043439388275</td>\n      <td>0.0</td>\n      <td>0.343855</td>\n      <td>17967</td>\n      <td>10990</td>\n      <td>...</td>\n      <td>0.0016</td>\n      <td>0.0115</td>\n      <td>0.0276</td>\n      <td>0.0662</td>\n      <td>0.079</td>\n      <td>0.0838</td>\n      <td>0.0995</td>\n      <td>0.1195</td>\n      <td>0.0968</td>\n      <td>0.0839</td>\n    </tr>\n  </tbody>\n</table>\n<p>2 rows × 43 columns</p>\n</div>"
     },
     "execution_count": 3,
     "metadata": {},
     "output_type": "execute_result"
    }
   ],
   "source": [
    "user_att.head(2)"
   ]
  },
  {
   "cell_type": "code",
   "execution_count": 4,
   "metadata": {
    "pycharm": {
     "name": "#%%\n"
    }
   },
   "outputs": [
    {
     "name": "stdout",
     "output_type": "stream",
     "text": [
      "Dataset Column and Type Info:\n",
      "<class 'pandas.core.frame.DataFrame'>\n",
      "RangeIndex: 120322 entries, 0 to 120321\n",
      "Data columns (total 43 columns):\n",
      " #   Column                        Non-Null Count   Dtype  \n",
      "---  ------                        --------------   -----  \n",
      " 0   user-id                       120322 non-null  int64  \n",
      " 1   novelty_artist_avg_month      120322 non-null  object \n",
      " 2   novelty_artist_avg_6months    120322 non-null  float64\n",
      " 3   novelty_artist_avg_year       120322 non-null  object \n",
      " 4   mainstreaminess_avg_month     120322 non-null  float64\n",
      " 5   mainstreaminess_avg_6months   120322 non-null  object \n",
      " 6   mainstreaminess_avg_year      120322 non-null  float64\n",
      " 7   mainstreaminess_global        120322 non-null  float64\n",
      " 8   cnt_listeningevents           120322 non-null  int64  \n",
      " 9   cnt_distinct_tracks           120322 non-null  int64  \n",
      " 10  cnt_distinct_artists          120322 non-null  int64  \n",
      " 11  cnt_listeningevents_per_week  120322 non-null  float64\n",
      " 12  relative_le_per_weekday1      120322 non-null  object \n",
      " 13  relative_le_per_weekday2      120322 non-null  object \n",
      " 14  relative_le_per_weekday3      120322 non-null  object \n",
      " 15  relative_le_per_weekday4      120322 non-null  object \n",
      " 16  relative_le_per_weekday5      120322 non-null  object \n",
      " 17  relative_le_per_weekday6      120322 non-null  object \n",
      " 18  relative_le_per_weekday7      120322 non-null  object \n",
      " 19  relative_le_per_hour0         120322 non-null  object \n",
      " 20  relative_le_per_hour1         120322 non-null  object \n",
      " 21  relative_le_per_hour2         120322 non-null  object \n",
      " 22  relative_le_per_hour3         120322 non-null  object \n",
      " 23  relative_le_per_hour4         120322 non-null  object \n",
      " 24  relative_le_per_hour5         120322 non-null  object \n",
      " 25  relative_le_per_hour6         120322 non-null  object \n",
      " 26  relative_le_per_hour7         120322 non-null  object \n",
      " 27  relative_le_per_hour8         120322 non-null  object \n",
      " 28  relative_le_per_hour9         120322 non-null  object \n",
      " 29  relative_le_per_hour10        120322 non-null  object \n",
      " 30  relative_le_per_hour11        120322 non-null  object \n",
      " 31  relative_le_per_hour12        120322 non-null  object \n",
      " 32  relative_le_per_hour13        120322 non-null  object \n",
      " 33  relative_le_per_hour14        120322 non-null  object \n",
      " 34  relative_le_per_hour15        120322 non-null  object \n",
      " 35  relative_le_per_hour16        120322 non-null  object \n",
      " 36  relative_le_per_hour17        120322 non-null  object \n",
      " 37  relative_le_per_hour18        120322 non-null  object \n",
      " 38  relative_le_per_hour19        120322 non-null  object \n",
      " 39  relative_le_per_hour20        120322 non-null  object \n",
      " 40  relative_le_per_hour21        120322 non-null  object \n",
      " 41  relative_le_per_hour22        120322 non-null  object \n",
      " 42  relative_le_per_hour23        120322 non-null  object \n",
      "dtypes: float64(5), int64(4), object(34)\n",
      "memory usage: 39.5+ MB\n",
      "Dataset shape: (120322, 43)\n"
     ]
    }
   ],
   "source": [
    "print('Dataset Column and Type Info:')\n",
    "user_att.info()\n",
    "print('Dataset shape: {}'.format(user_att.shape))\n",
    "#print('-Dataset examples-')\n",
    "#print(user_att.iloc[::2, :])\n"
   ]
  },
  {
   "cell_type": "markdown",
   "metadata": {
    "pycharm": {
     "name": "#%% md\n"
    }
   },
   "source": [
    "### What's the resource?...Mainstreaminess\n",
    "According to Wikipedia, the word mainstream is the prevalent current thought that is widespread. It includes all popular culture and media culture, typically disseminated by mass media.\n",
    "\n",
    "In the The LFM-1b Dataset for Music Retrieval and Recommendation research paper, the <b>mainstreaminess score</b> is the overlap between a user’s listening history\n",
    "and the combined listening history of all users\n",
    "\n",
    "The following data shows such scores from an average a span of 1 month, to a year, to finally a computed score for the entire period of the user’s activity on Last.fm"
   ]
  },
  {
   "cell_type": "code",
   "execution_count": 5,
   "metadata": {
    "pycharm": {
     "name": "#%%\n"
    }
   },
   "outputs": [],
   "source": [
    "user_att.drop(user_att.columns[[1,2,3,8,9,10,11,12,13,14,15,16,17,18,19,20,21,22,23,24,25,26,27,28,29,30,31,32,33,34,35,36,37,38,39,40,41,42]], axis=1, inplace=True)"
   ]
  },
  {
   "cell_type": "code",
   "execution_count": 95,
   "metadata": {
    "pycharm": {
     "name": "#%%\n"
    }
   },
   "outputs": [
    {
     "name": "stdout",
     "output_type": "stream",
     "text": [
      "The new data frame shape:\t(120322, 5)\n"
     ]
    },
    {
     "data": {
      "text/plain": "   userID  MSAvg_1_month  MSAvg_6_months  MSAvg_12_months  \\\n0     384       0.024655        0.367343         0.000000   \n1    1206       0.181991        0.391304         0.000000   \n2    2622       0.052310        0.780064         0.079669   \n3    2732       0.005092        0.886364         0.032614   \n4    3653       0.042821        0.491756         0.077731   \n\n   MSAvg_entire_user_activity_period  \n0                           0.124903  \n1                           0.343855  \n2                           0.245980  \n3                           0.077512  \n4                           0.207567  ",
      "text/html": "<div>\n<style scoped>\n    .dataframe tbody tr th:only-of-type {\n        vertical-align: middle;\n    }\n\n    .dataframe tbody tr th {\n        vertical-align: top;\n    }\n\n    .dataframe thead th {\n        text-align: right;\n    }\n</style>\n<table border=\"1\" class=\"dataframe\">\n  <thead>\n    <tr style=\"text-align: right;\">\n      <th></th>\n      <th>userID</th>\n      <th>MSAvg_1_month</th>\n      <th>MSAvg_6_months</th>\n      <th>MSAvg_12_months</th>\n      <th>MSAvg_entire_user_activity_period</th>\n    </tr>\n  </thead>\n  <tbody>\n    <tr>\n      <th>0</th>\n      <td>384</td>\n      <td>0.024655</td>\n      <td>0.367343</td>\n      <td>0.000000</td>\n      <td>0.124903</td>\n    </tr>\n    <tr>\n      <th>1</th>\n      <td>1206</td>\n      <td>0.181991</td>\n      <td>0.391304</td>\n      <td>0.000000</td>\n      <td>0.343855</td>\n    </tr>\n    <tr>\n      <th>2</th>\n      <td>2622</td>\n      <td>0.052310</td>\n      <td>0.780064</td>\n      <td>0.079669</td>\n      <td>0.245980</td>\n    </tr>\n    <tr>\n      <th>3</th>\n      <td>2732</td>\n      <td>0.005092</td>\n      <td>0.886364</td>\n      <td>0.032614</td>\n      <td>0.077512</td>\n    </tr>\n    <tr>\n      <th>4</th>\n      <td>3653</td>\n      <td>0.042821</td>\n      <td>0.491756</td>\n      <td>0.077731</td>\n      <td>0.207567</td>\n    </tr>\n  </tbody>\n</table>\n</div>"
     },
     "execution_count": 95,
     "metadata": {},
     "output_type": "execute_result"
    }
   ],
   "source": [
    "user_att.columns= ['userID', 'MSAvg_1_month', 'MSAvg_6_months','MSAvg_12_months','MSAvg_entire_user_activity_period']\n",
    "#mainstreaminess_avg_6months column is oddly marked with an object dtype initially\n",
    "user_att['MSAvg_6_months'] = pd.to_numeric(user_att.MSAvg_6_months, errors='coerce')\n",
    "df =user_att\n",
    "print('The new data frame shape:\\t{}'.format(df.shape))\n",
    "df.head()"
   ]
  },
  {
   "cell_type": "markdown",
   "metadata": {
    "pycharm": {
     "name": "#%% md\n"
    }
   },
   "source": [
    "### Distribution for each column in data frame (df) of user attributes\n",
    "\n",
    "#### Graphs for Mainstreaminess in 1 month time span"
   ]
  },
  {
   "cell_type": "code",
   "execution_count": 7,
   "metadata": {
    "pycharm": {
     "name": "#%%\n"
    }
   },
   "outputs": [],
   "source": [
    "#df.MSAvg_1_month.describe()"
   ]
  },
  {
   "cell_type": "code",
   "execution_count": 8,
   "metadata": {
    "pycharm": {
     "name": "#%%\n"
    }
   },
   "outputs": [
    {
     "data": {
      "text/plain": "<Figure size 432x288 with 1 Axes>",
      "image/png": "[encoded data removed]"
     },
     "metadata": {
      "needs_background": "light"
     },
     "output_type": "display_data"
    }
   ],
   "source": [
    "plt.scatter(range(df.shape[0]), np.sort(df['MSAvg_1_month'].values))\n",
    "plt.xlabel('index')\n",
    "plt.ylabel('Mainstreaminess Score')\n",
    "plt.title(\"MS averaged over 1 month Distribution\")\n",
    "sns.despine()"
   ]
  },
  {
   "cell_type": "code",
   "execution_count": 9,
   "metadata": {
    "pycharm": {
     "name": "#%%\n"
    }
   },
   "outputs": [
    {
     "name": "stderr",
     "output_type": "stream",
     "text": [
      "c:\\users\\bobo1\\appdata\\local\\programs\\python\\python37\\lib\\site-packages\\seaborn\\distributions.py:2551: FutureWarning: `distplot` is a deprecated function and will be removed in a future version. Please adapt your code to use either `displot` (a figure-level function with similar flexibility) or `histplot` (an axes-level function for histograms).\n",
      "  warnings.warn(msg, FutureWarning)\n"
     ]
    },
    {
     "data": {
      "text/plain": "<Figure size 432x288 with 1 Axes>",
      "image/png": "[encoded data removed]"
     },
     "metadata": {
      "needs_background": "light"
     },
     "output_type": "display_data"
    }
   ],
   "source": [
    "sns.distplot(df['MSAvg_1_month'])\n",
    "plt.title(\"Distribution of 1 month Mainstreaminess\")\n",
    "sns.despine()"
   ]
  },
  {
   "cell_type": "code",
   "execution_count": 10,
   "metadata": {
    "pycharm": {
     "name": "#%%\n"
    }
   },
   "outputs": [
    {
     "name": "stdout",
     "output_type": "stream",
     "text": [
      "1 Month Skewness: 1.283249\n",
      "1 Month Kurtosis: 2.858870\n"
     ]
    }
   ],
   "source": [
    "print(\"1 Month Skewness: %f\" % df['MSAvg_1_month'].skew()) #the distortion or asymmetry in a symmetrical bell curve/normal distribution, in a set of data.\n",
    "print(\"1 Month Kurtosis: %f\" % df['MSAvg_1_month'].kurt()) #the sharpness of the peak of a frequency-distribution curve."
   ]
  },
  {
   "cell_type": "markdown",
   "metadata": {
    "pycharm": {
     "name": "#%% md\n"
    }
   },
   "source": [
    "###### If the skewness is between **-0.5 and 0.5**, the data are *fairly symmetrical*. If the skewness is between **-1 and – 0.5 or between 0.5 and 1**, the data are *moderately skewed*. If the skewness is **less than -1 or greater than 1**, the data are *highly skewed*.\n",
    "\n",
    "###### Data sets with high kurtosis tend to have heavy tails, or outliers. Data sets with low kurtosis tend to have light tails, or lack of outliers."
   ]
  },
  {
   "cell_type": "markdown",
   "metadata": {
    "pycharm": {
     "name": "#%% md\n"
    }
   },
   "source": [
    "#### Graphs for Mainstreaminess in 6 months time span"
   ]
  },
  {
   "cell_type": "code",
   "execution_count": 11,
   "metadata": {
    "pycharm": {
     "name": "#%%\n"
    }
   },
   "outputs": [],
   "source": [
    "#df.MSAvg_6_months.describe()"
   ]
  },
  {
   "cell_type": "code",
   "execution_count": 12,
   "metadata": {
    "pycharm": {
     "name": "#%%\n"
    }
   },
   "outputs": [
    {
     "data": {
      "text/plain": "<Figure size 432x288 with 1 Axes>",
      "image/png": "[encoded data removed]"
     },
     "metadata": {
      "needs_background": "light"
     },
     "output_type": "display_data"
    }
   ],
   "source": [
    "plt.scatter(range(df.shape[0]), np.sort(df['MSAvg_6_months'].values))\n",
    "plt.xlabel('index')\n",
    "plt.ylabel('Mainstreaminess Score')\n",
    "plt.title(\"MS averaged over 6 months Distribution\")\n",
    "sns.despine()"
   ]
  },
  {
   "cell_type": "code",
   "execution_count": 13,
   "metadata": {
    "pycharm": {
     "name": "#%%\n"
    }
   },
   "outputs": [
    {
     "name": "stderr",
     "output_type": "stream",
     "text": [
      "c:\\users\\bobo1\\appdata\\local\\programs\\python\\python37\\lib\\site-packages\\seaborn\\distributions.py:2551: FutureWarning: `distplot` is a deprecated function and will be removed in a future version. Please adapt your code to use either `displot` (a figure-level function with similar flexibility) or `histplot` (an axes-level function for histograms).\n",
      "  warnings.warn(msg, FutureWarning)\n"
     ]
    },
    {
     "data": {
      "text/plain": "<Figure size 432x288 with 1 Axes>",
      "image/png": "[encoded data removed]"
     },
     "metadata": {
      "needs_background": "light"
     },
     "output_type": "display_data"
    }
   ],
   "source": [
    "sns.distplot(df['MSAvg_6_months'])\n",
    "plt.title(\"Distribution of 6 months Mainstreaminess\")\n",
    "sns.despine()"
   ]
  },
  {
   "cell_type": "code",
   "execution_count": 14,
   "metadata": {
    "pycharm": {
     "name": "#%%\n"
    }
   },
   "outputs": [
    {
     "name": "stdout",
     "output_type": "stream",
     "text": [
      "6 Month Skewness: -0.029006\n",
      "6 Month Kurtosis: -0.450508\n"
     ]
    }
   ],
   "source": [
    "print(\"6 Month Skewness: %f\" % df['MSAvg_6_months'].skew()) #the distortion or asymmetry in a symmetrical bell curve/normal distribution, in a set of data.\n",
    "print(\"6 Month Kurtosis: %f\" % df['MSAvg_6_months'].kurt()) #the sharpness of the peak of a frequency-distribution curve."
   ]
  },
  {
   "cell_type": "markdown",
   "metadata": {},
   "source": [
    "###### If the skewness is between **-0.5 and 0.5**, the data are *fairly symmetrical*. If the skewness is between **-1 and – 0.5 or between 0.5 and 1**, the data are *moderately skewed*. If the skewness is **less than -1 or greater than 1**, the data are *highly skewed*.\n",
    "\n",
    "###### Data sets with high kurtosis tend to have heavy tails, or outliers. Data sets with low kurtosis tend to have light tails, or lack of outliers."
   ]
  },
  {
   "cell_type": "markdown",
   "metadata": {
    "pycharm": {
     "name": "#%% md\n"
    }
   },
   "source": [
    "#### Graphs for Mainstreaminess in 12 months time span"
   ]
  },
  {
   "cell_type": "code",
   "execution_count": 15,
   "metadata": {
    "pycharm": {
     "name": "#%%\n"
    }
   },
   "outputs": [],
   "source": [
    "#df.MSAvg_12_months.describe()"
   ]
  },
  {
   "cell_type": "code",
   "execution_count": 16,
   "metadata": {
    "pycharm": {
     "name": "#%%\n"
    }
   },
   "outputs": [
    {
     "data": {
      "text/plain": "<Figure size 432x288 with 1 Axes>",
      "image/png": "[encoded data removed]"
     },
     "metadata": {
      "needs_background": "light"
     },
     "output_type": "display_data"
    }
   ],
   "source": [
    "plt.scatter(range(df.shape[0]), np.sort(df['MSAvg_12_months'].values))\n",
    "plt.xlabel('index')\n",
    "plt.ylabel('Mainstreaminess Score')\n",
    "plt.title(\"MS averaged over 12 months Distribution\")\n",
    "sns.despine()"
   ]
  },
  {
   "cell_type": "code",
   "execution_count": 17,
   "metadata": {
    "pycharm": {
     "name": "#%%\n"
    }
   },
   "outputs": [
    {
     "name": "stderr",
     "output_type": "stream",
     "text": [
      "c:\\users\\bobo1\\appdata\\local\\programs\\python\\python37\\lib\\site-packages\\seaborn\\distributions.py:2551: FutureWarning: `distplot` is a deprecated function and will be removed in a future version. Please adapt your code to use either `displot` (a figure-level function with similar flexibility) or `histplot` (an axes-level function for histograms).\n",
      "  warnings.warn(msg, FutureWarning)\n"
     ]
    },
    {
     "data": {
      "text/plain": "<Figure size 432x288 with 1 Axes>",
      "image/png": "[encoded data removed]"
     },
     "metadata": {
      "needs_background": "light"
     },
     "output_type": "display_data"
    }
   ],
   "source": [
    "sns.distplot(df['MSAvg_12_months'])\n",
    "plt.title(\"Distribution of 12 months Mainstreaminess\")\n",
    "sns.despine()"
   ]
  },
  {
   "cell_type": "code",
   "execution_count": 18,
   "metadata": {
    "pycharm": {
     "name": "#%%\n"
    }
   },
   "outputs": [
    {
     "name": "stdout",
     "output_type": "stream",
     "text": [
      "12 Month Skewness: 1.178281\n",
      "12 Month Kurtosis: 1.856083\n"
     ]
    }
   ],
   "source": [
    "print(\"12 Month Skewness: %f\" % df['MSAvg_12_months'].skew()) #the distortion or asymmetry in a symmetrical bell curve/normal distribution, in a set of data.\n",
    "print(\"12 Month Kurtosis: %f\" % df['MSAvg_12_months'].kurt()) #the sharpness of the peak of a frequency-distribution curve."
   ]
  },
  {
   "cell_type": "markdown",
   "metadata": {
    "pycharm": {
     "name": "#%% md\n"
    }
   },
   "source": [
    "###### If the skewness is between **-0.5 and 0.5**, the data are *fairly symmetrical*. If the skewness is between **-1 and – 0.5 or between 0.5 and 1**, the data are *moderately skewed*. If the skewness is **less than -1 or greater than 1**, the data are *highly skewed*.\n",
    "\n",
    "###### Data sets with high kurtosis tend to have heavy tails, or outliers. Data sets with low kurtosis tend to have light tails, or lack of outliers."
   ]
  },
  {
   "cell_type": "markdown",
   "metadata": {
    "pycharm": {
     "name": "#%% md\n"
    }
   },
   "source": [
    "#### Graphs for Mainstreaminess in total user activity"
   ]
  },
  {
   "cell_type": "code",
   "execution_count": 19,
   "metadata": {
    "pycharm": {
     "name": "#%%\n"
    }
   },
   "outputs": [],
   "source": [
    "#df.MSAvg_entire_user_activity_period.describe()"
   ]
  },
  {
   "cell_type": "code",
   "execution_count": 20,
   "metadata": {
    "pycharm": {
     "name": "#%%\n"
    }
   },
   "outputs": [
    {
     "data": {
      "text/plain": "<Figure size 432x288 with 1 Axes>",
      "image/png": "[encoded data removed]"
     },
     "metadata": {
      "needs_background": "light"
     },
     "output_type": "display_data"
    }
   ],
   "source": [
    "plt.scatter(range(df.shape[0]), np.sort(df['MSAvg_entire_user_activity_period'].values))\n",
    "plt.xlabel('index')\n",
    "plt.ylabel('Mainstreaminess Score')\n",
    "plt.title(\"MS averaged over Entire User Listening History Mainstreaminess Distribution\")\n",
    "sns.despine()"
   ]
  },
  {
   "cell_type": "code",
   "execution_count": 21,
   "metadata": {
    "pycharm": {
     "name": "#%%\n"
    }
   },
   "outputs": [
    {
     "name": "stderr",
     "output_type": "stream",
     "text": [
      "c:\\users\\bobo1\\appdata\\local\\programs\\python\\python37\\lib\\site-packages\\seaborn\\distributions.py:2551: FutureWarning: `distplot` is a deprecated function and will be removed in a future version. Please adapt your code to use either `displot` (a figure-level function with similar flexibility) or `histplot` (an axes-level function for histograms).\n",
      "  warnings.warn(msg, FutureWarning)\n"
     ]
    },
    {
     "data": {
      "text/plain": "<Figure size 432x288 with 1 Axes>",
      "image/png": "[encoded data removed]"
     },
     "metadata": {
      "needs_background": "light"
     },
     "output_type": "display_data"
    }
   ],
   "source": [
    "sns.distplot(df['MSAvg_entire_user_activity_period'])\n",
    "plt.title(\"Distribution of Entire User Listening History Mainstreaminess\")\n",
    "sns.despine()"
   ]
  },
  {
   "cell_type": "code",
   "execution_count": 22,
   "metadata": {
    "pycharm": {
     "name": "#%%\n"
    }
   },
   "outputs": [
    {
     "name": "stdout",
     "output_type": "stream",
     "text": [
      "Total Activity Skewness: 0.536700\n",
      "Total Activity Kurtosis: 0.020153\n"
     ]
    }
   ],
   "source": [
    "print(\"Total Activity Skewness: %f\" % df['MSAvg_entire_user_activity_period'].skew()) #the distortion or asymmetry in a symmetrical bell curve/normal distribution, in a set of data.\n",
    "print(\"Total Activity Kurtosis: %f\" % df['MSAvg_entire_user_activity_period'].kurt()) #the sharpness of the peak of a frequency-distribution curve."
   ]
  },
  {
   "cell_type": "markdown",
   "metadata": {},
   "source": [
    "###### If the skewness is between **-0.5 and 0.5**, the data are *fairly symmetrical*. If the skewness is between **-1 and – 0.5 or between 0.5 and 1**, the data are *moderately skewed*. If the skewness is **less than -1 or greater than 1**, the data are *highly skewed*.\n",
    "\n",
    "###### Data sets with high kurtosis tend to have heavy tails, or outliers. Data sets with low kurtosis tend to have light tails, or lack of outliers."
   ]
  },
  {
   "cell_type": "markdown",
   "metadata": {},
   "source": [
    "## K-NN Algorithms Analysis"
   ]
  },
  {
   "cell_type": "markdown",
   "metadata": {
    "pycharm": {
     "name": "#%% md\n"
    }
   },
   "source": [
    "In the previous cells, we saw that mainstreaminess score trend for 1 and 12 month(s) were highly skewed and were more likely to have\n",
    "outliers. We also witnessed that the mainstreaminess score trend for 6 months and overall user activity were fairly symmetrical\n",
    "and were less likely to have outliers.\n",
    "\n",
    "To put the test and train sets into context. The original dataframe, df, has about 1 billion users.\n",
    "Typically the test and cross_validation sets are 25% of the training set which is 100%.\n",
    "Here you will see that 003% of our original data set have scores below 50."
   ]
  },
  {
   "cell_type": "code",
   "execution_count": 74,
   "metadata": {
    "pycharm": {
     "name": "#%%\n"
    }
   },
   "outputs": [],
   "source": [
    "#df.groupby('userID')['MSAvg_1_month','MSAvg_6_months','MSAvg_12_months','MSAvg_entire_user_activity_period'].count().reset_index().sort_values('userID', ascending=False)[:10]"
   ]
  },
  {
   "cell_type": "code",
   "execution_count": 110,
   "outputs": [
    {
     "name": "stdout",
     "output_type": "stream",
     "text": [
      "The original data frame shape:\t(120322, 5)\n",
      "The poor distribution data frame shape:\t(10106, 5)\n",
      "The better distribution data frame shape:\t(10106, 5)\n"
     ]
    }
   ],
   "source": [
    "#Dimensionality reduction in amount of users with mainstreaminess score counts less than 50\n",
    "max_ms_score_count = 50\n",
    "\n",
    "reduce_users = df['userID'].value_counts() < max_ms_score_count\n",
    "reduce_users = reduce_users[reduce_users].index.tolist()\n",
    "\n",
    "reduce_1_month = df['MSAvg_1_month'].value_counts() > max_ms_score_count\n",
    "reduce_1_month  = reduce_1_month [reduce_1_month].index.tolist()\n",
    "\n",
    "reduce_6_months = df['MSAvg_6_months'].value_counts() > max_ms_score_count\n",
    "reduce_6_months = reduce_6_months[reduce_6_months].index.tolist()\n",
    "\n",
    "# split the data into train and test set\n",
    "poor = df[((df['userID'].isin(reduce_users))  & (df['MSAvg_1_month'].isin(reduce_1_month)))]\n",
    "better = df[((df['userID'].isin(reduce_users))  & (df['MSAvg_6_months'].isin(reduce_6_months)))]\n",
    "print('The original data frame shape:\\t{}'.format(df.shape))\n",
    "print('The poor distribution data frame shape:\\t{}'.format(poor.shape))\n",
    "print('The better distribution data frame shape:\\t{}'.format(poor.shape))"
   ],
   "metadata": {
    "collapsed": false,
    "pycharm": {
     "name": "#%%\n"
    }
   }
  },
  {
   "cell_type": "markdown",
   "metadata": {
    "pycharm": {
     "name": "#%% md\n"
    }
   },
   "source": [
    "To load a dataset from a pandas dataframe, we will use the load_from_df() method,\n",
    "we will also need a Reader object, and the rating_scale parameter must be specified.\n",
    "The dataframe must have three columns, corresponding to the user ids, and the mainstreaminess in this order."
   ]
  },
  {
   "cell_type": "code",
   "execution_count": 111,
   "metadata": {
    "pycharm": {
     "name": "#%%\n"
    }
   },
   "outputs": [],
   "source": [
    "#rating scale based on better to poor mainstreaminess score\n",
    "reader = Reader(rating_scale=(0, 9))\n",
    "\n",
    "poor_dist = Dataset.load_from_df(poor[['userID', 'MSAvg_1_month','MSAvg_12_months']],reader)\n",
    "better_dist= Dataset.load_from_df(better[['userID', 'MSAvg_6_months','MSAvg_entire_user_activity_period']],reader)"
   ]
  },
  {
   "cell_type": "markdown",
   "metadata": {},
   "source": [
    "### Surprise Library Algorithms\n",
    "<p class=\"lead\">This next section will show results from running suprise library algorithms...\n",
    "\n",
    "#### BaselineOnly, a basic prediction algorithm:\n",
    "<ul><li>BasiclineOnly algorithm predicts the baseline estimate for given user\n",
    "and item/resource.</li></ul>\n",
    "\n",
    "#### kNN Algorithms:\n",
    "\n",
    "##### KNNBasic\n",
    "<ul><li>KNNBasic is a basic collaborative filtering algorithm.</li></ul>\n",
    "\n",
    "##### KNNWithMeans\n",
    "<ul><li>KNNWithMeans is basic collaborative filtering algorithm, taking into account the mean ratings of each user.</li></ul>\n",
    "\n",
    "##### KNNWithZScore\n",
    "<ul><li>KNNWithZScore is a basic collaborative filtering algorithm, taking into account the z-score normalization of each user.</li></ul>\n",
    "\n",
    "##### KNNBaseline\n",
    "<ul><li>KNNBaseline is a basic collaborative filtering algorithm taking into account a baseline rating.</li></ul>\n",
    "\n",
    "For each algorithm, we use 2 accuracy metrics measures, RMSE and MAE, for the predictions made.\n",
    "##### Root Mean Squared Derivation\n",
    " <ul><li> The standard deviation of the prediction errors</li><ul><li>\n",
    " Frequently used measure of the differences between values (sample or population values) predicted\n",
    " by a model or an estimator and the values observed.</li><li>The closer the value of RMSE is to zero , the better is the Regression Model.</li></ul></ul>\n",
    "\n",
    "##### Mean Average Error\n",
    " <ul><li> The standard deviation of the prediction errors</li><ul><li>\n",
    " Frequently used measure of the differences between values (sample or population values) predicted\n",
    " by a model or an estimator and the values observed.</li><li>The closer the value of RMSE is to zero , the better is the Regression Model.</li></ul></ul>"
   ]
  },
  {
   "cell_type": "code",
   "execution_count": 122,
   "metadata": {
    "pycharm": {
     "name": "#%%\n"
    }
   },
   "outputs": [
    {
     "name": "stdout",
     "output_type": "stream",
     "text": [
      "Estimating biases using als...\n",
      "Estimating biases using als...\n",
      "Estimating biases using als...\n",
      "Estimating biases using als...\n",
      "Computing the msd similarity matrix...\n",
      "Done computing similarity matrix.\n",
      "Estimating biases using als...\n",
      "Computing the msd similarity matrix...\n",
      "Done computing similarity matrix.\n",
      "Estimating biases using als...\n",
      "Computing the msd similarity matrix...\n",
      "Done computing similarity matrix.\n",
      "Computing the msd similarity matrix...\n",
      "Done computing similarity matrix.\n",
      "Computing the msd similarity matrix...\n",
      "Done computing similarity matrix.\n",
      "Computing the msd similarity matrix...\n",
      "Done computing similarity matrix.\n",
      "Computing the msd similarity matrix...\n",
      "Done computing similarity matrix.\n",
      "Computing the msd similarity matrix...\n",
      "Done computing similarity matrix.\n",
      "Computing the msd similarity matrix...\n",
      "Done computing similarity matrix.\n",
      "Computing the msd similarity matrix...\n",
      "Done computing similarity matrix.\n",
      "Computing the msd similarity matrix...\n",
      "Done computing similarity matrix.\n",
      "Computing the msd similarity matrix...\n",
      "Done computing similarity matrix.\n"
     ]
    },
    {
     "data": {
      "text/plain": "   test_rmse  test_mae  fit_time  test_time      Algorithm\n0   0.056767  0.046225  0.030585   0.023606   BaselineOnly\n1   0.056771  0.046224  4.887569   0.022578    KNNBaseline\n2   0.056768  0.046226  4.272635   0.021282       KNNBasic\n3   0.056768  0.046222  4.618242   0.020793   KNNWithMeans\n4   0.056769  0.046223  4.521184   0.022318  KNNWithZScore",
      "text/html": "<div>\n<style scoped>\n    .dataframe tbody tr th:only-of-type {\n        vertical-align: middle;\n    }\n\n    .dataframe tbody tr th {\n        vertical-align: top;\n    }\n\n    .dataframe thead th {\n        text-align: right;\n    }\n</style>\n<table border=\"1\" class=\"dataframe\">\n  <thead>\n    <tr style=\"text-align: right;\">\n      <th></th>\n      <th>test_rmse</th>\n      <th>test_mae</th>\n      <th>fit_time</th>\n      <th>test_time</th>\n      <th>Algorithm</th>\n    </tr>\n  </thead>\n  <tbody>\n    <tr>\n      <th>0</th>\n      <td>0.056767</td>\n      <td>0.046225</td>\n      <td>0.030585</td>\n      <td>0.023606</td>\n      <td>BaselineOnly</td>\n    </tr>\n    <tr>\n      <th>1</th>\n      <td>0.056771</td>\n      <td>0.046224</td>\n      <td>4.887569</td>\n      <td>0.022578</td>\n      <td>KNNBaseline</td>\n    </tr>\n    <tr>\n      <th>2</th>\n      <td>0.056768</td>\n      <td>0.046226</td>\n      <td>4.272635</td>\n      <td>0.021282</td>\n      <td>KNNBasic</td>\n    </tr>\n    <tr>\n      <th>3</th>\n      <td>0.056768</td>\n      <td>0.046222</td>\n      <td>4.618242</td>\n      <td>0.020793</td>\n      <td>KNNWithMeans</td>\n    </tr>\n    <tr>\n      <th>4</th>\n      <td>0.056769</td>\n      <td>0.046223</td>\n      <td>4.521184</td>\n      <td>0.022318</td>\n      <td>KNNWithZScore</td>\n    </tr>\n  </tbody>\n</table>\n</div>"
     },
     "execution_count": 122,
     "metadata": {},
     "output_type": "execute_result"
    }
   ],
   "source": [
    "poor_compare = []\n",
    "# Iterate over all algorithms for cv sets\n",
    "for algorithm in [BaselineOnly(),KNNBaseline(), KNNBasic(), KNNWithMeans(), KNNWithZScore()]:\n",
    "    # Perform cross validation\n",
    "    validation1 = cross_validate(algorithm, poor_dist, measures=['RMSE','MAE'], cv=3, verbose=False)\n",
    "\n",
    "    # Get results & append algorithm name\n",
    "    results1 = pd.DataFrame.from_dict(validation1).mean(axis=0)\n",
    "    results1 = results1.append(pd.Series([str(algorithm).split(' ')[0].split('.')[-1]], index=['Algorithm']))\n",
    "    poor_compare.append(results1)\n",
    "p = pd.DataFrame(poor_compare)\n",
    "p"
   ]
  },
  {
   "cell_type": "code",
   "execution_count": 123,
   "metadata": {
    "pycharm": {
     "name": "#%%\n"
    }
   },
   "outputs": [
    {
     "name": "stdout",
     "output_type": "stream",
     "text": [
      "Estimating biases using als...\n",
      "Estimating biases using als...\n",
      "Estimating biases using als...\n",
      "Computing the msd similarity matrix...\n",
      "Done computing similarity matrix.\n",
      "Estimating biases using als...\n",
      "Computing the msd similarity matrix...\n",
      "Done computing similarity matrix.\n",
      "Computing the msd similarity matrix...\n",
      "Done computing similarity matrix.\n",
      "Computing the msd similarity matrix...\n",
      "Done computing similarity matrix.\n",
      "Computing the msd similarity matrix...\n",
      "Done computing similarity matrix.\n",
      "Computing the msd similarity matrix...\n",
      "Done computing similarity matrix.\n",
      "Computing the msd similarity matrix...\n",
      "Done computing similarity matrix.\n",
      "Computing the msd similarity matrix...\n",
      "Done computing similarity matrix.\n"
     ]
    }
   ],
   "source": [
    "better_compare = []\n",
    "# Iterate over all algorithms for cv sets\n",
    "for algorithm in [BaselineOnly(),KNNBaseline(), KNNBasic(), KNNWithMeans(), KNNWithZScore()]:\n",
    "    # Perform cross validation\n",
    "    validation2 = cross_validate(algorithm, better_dist, measures=['RMSE','MAE'], cv=2, verbose=False)\n",
    "\n",
    "    # Get results & append algorithm name\n",
    "    results2 = pd.DataFrame.from_dict(validation2).mean(axis=0)\n",
    "    results2 = results2.append(pd.Series([str(algorithm).split(' ')[0].split('.')[-1]], index=['Algorithm']))\n",
    "    better_compare.append(results2)\n",
    "\n",
    "    b = pd.DataFrame(better_compare)\n",
    "    b"
   ]
  },
  {
   "cell_type": "code",
   "execution_count": 124,
   "metadata": {
    "pycharm": {
     "name": "#%%\n"
    }
   },
   "outputs": [],
   "source": [
    "#surprise_results = pd.DataFrame(poor_compare).set_index('Algorithm').sort_values('test_mae')\n",
    "surprise_results = pd.DataFrame({'Poor Distribution':poor_compare,'Better Distribution': better_compare})"
   ]
  },
  {
   "cell_type": "code",
   "execution_count": 137,
   "metadata": {
    "pycharm": {
     "name": "#%%\n"
    }
   },
   "outputs": [
    {
     "data": {
      "text/plain": "                                   Poor Distribution  \\\n0  test_rmse       0.0567665\ntest_mae        0.04...   \n1  test_rmse       0.056771\ntest_mae       0.0462...   \n2  test_rmse    0.0567681\ntest_mae     0.0462263\n...   \n3  test_rmse       0.0567679\ntest_mae        0.04...   \n4  test_rmse        0.0567686\ntest_mae         0....   \n\n                                 Better Distribution  \n0  test_rmse       0.0512604\ntest_mae         0.0...  \n1  test_rmse      0.0513653\ntest_mae       0.0406...  \n2  test_rmse     0.051823\ntest_mae     0.0410964\n...  \n3  test_rmse       0.0518383\ntest_mae        0.04...  \n4  test_rmse        0.0518543\ntest_mae         0....  ",
      "text/html": "<div>\n<style scoped>\n    .dataframe tbody tr th:only-of-type {\n        vertical-align: middle;\n    }\n\n    .dataframe tbody tr th {\n        vertical-align: top;\n    }\n\n    .dataframe thead th {\n        text-align: right;\n    }\n</style>\n<table border=\"1\" class=\"dataframe\">\n  <thead>\n    <tr style=\"text-align: right;\">\n      <th></th>\n      <th>Poor Distribution</th>\n      <th>Better Distribution</th>\n    </tr>\n  </thead>\n  <tbody>\n    <tr>\n      <th>0</th>\n      <td>test_rmse       0.0567665\ntest_mae        0.04...</td>\n      <td>test_rmse       0.0512604\ntest_mae         0.0...</td>\n    </tr>\n    <tr>\n      <th>1</th>\n      <td>test_rmse       0.056771\ntest_mae       0.0462...</td>\n      <td>test_rmse      0.0513653\ntest_mae       0.0406...</td>\n    </tr>\n    <tr>\n      <th>2</th>\n      <td>test_rmse    0.0567681\ntest_mae     0.0462263\n...</td>\n      <td>test_rmse     0.051823\ntest_mae     0.0410964\n...</td>\n    </tr>\n    <tr>\n      <th>3</th>\n      <td>test_rmse       0.0567679\ntest_mae        0.04...</td>\n      <td>test_rmse       0.0518383\ntest_mae        0.04...</td>\n    </tr>\n    <tr>\n      <th>4</th>\n      <td>test_rmse        0.0567686\ntest_mae         0....</td>\n      <td>test_rmse        0.0518543\ntest_mae         0....</td>\n    </tr>\n  </tbody>\n</table>\n</div>"
     },
     "execution_count": 137,
     "metadata": {},
     "output_type": "execute_result"
    }
   ],
   "source": [
    "surprise_results"
   ]
  },
  {
   "cell_type": "code",
   "execution_count": 162,
   "outputs": [
    {
     "ename": "ValueError",
     "evalue": "shape mismatch: objects cannot be broadcast to a single shape",
     "output_type": "error",
     "traceback": [
      "\u001B[1;31m---------------------------------------------------------------------------\u001B[0m",
      "\u001B[1;31mValueError\u001B[0m                                Traceback (most recent call last)",
      "\u001B[1;32m<ipython-input-162-82dd07a66e00>\u001B[0m in \u001B[0;36m<module>\u001B[1;34m\u001B[0m\n\u001B[0;32m      9\u001B[0m \u001B[1;33m\u001B[0m\u001B[0m\n\u001B[0;32m     10\u001B[0m \u001B[0mx1\u001B[0m \u001B[1;33m=\u001B[0m \u001B[0mnp\u001B[0m\u001B[1;33m.\u001B[0m\u001B[0marange\u001B[0m\u001B[1;33m(\u001B[0m\u001B[0mlen\u001B[0m\u001B[1;33m(\u001B[0m\u001B[0mx_labels\u001B[0m\u001B[1;33m)\u001B[0m\u001B[1;33m)\u001B[0m\u001B[1;33m\u001B[0m\u001B[1;33m\u001B[0m\u001B[0m\n\u001B[1;32m---> 11\u001B[1;33m \u001B[0mplt\u001B[0m\u001B[1;33m.\u001B[0m\u001B[0mbar\u001B[0m\u001B[1;33m(\u001B[0m\u001B[0mx1\u001B[0m\u001B[1;33m+\u001B[0m\u001B[1;36m0\u001B[0m\u001B[1;33m,\u001B[0m \u001B[0mbar1\u001B[0m\u001B[1;33m,\u001B[0m \u001B[0mwidth\u001B[0m \u001B[1;33m=\u001B[0m \u001B[1;36m0.15\u001B[0m\u001B[1;33m,\u001B[0m \u001B[0mlabel\u001B[0m \u001B[1;33m=\u001B[0m\u001B[1;34m\"KNNWithZScore\"\u001B[0m\u001B[1;33m)\u001B[0m\u001B[1;33m\u001B[0m\u001B[1;33m\u001B[0m\u001B[0m\n\u001B[0m\u001B[0;32m     12\u001B[0m \u001B[0mplt\u001B[0m\u001B[1;33m.\u001B[0m\u001B[0mbar\u001B[0m\u001B[1;33m(\u001B[0m\u001B[0mx1\u001B[0m\u001B[1;33m+\u001B[0m\u001B[1;36m1\u001B[0m\u001B[1;33m,\u001B[0m \u001B[0mbar2\u001B[0m\u001B[1;33m,\u001B[0m \u001B[0mwidth\u001B[0m \u001B[1;33m=\u001B[0m \u001B[1;36m0.15\u001B[0m\u001B[1;33m,\u001B[0m \u001B[0mlabel\u001B[0m \u001B[1;33m=\u001B[0m\u001B[1;34m\"KNNBaseline\"\u001B[0m\u001B[1;33m)\u001B[0m\u001B[1;33m\u001B[0m\u001B[1;33m\u001B[0m\u001B[0m\n\u001B[0;32m     13\u001B[0m \u001B[0mplt\u001B[0m\u001B[1;33m.\u001B[0m\u001B[0mbar\u001B[0m\u001B[1;33m(\u001B[0m\u001B[0mx1\u001B[0m\u001B[1;33m+\u001B[0m\u001B[1;36m2\u001B[0m\u001B[1;33m,\u001B[0m \u001B[0mbar3\u001B[0m\u001B[1;33m,\u001B[0m \u001B[0mwidth\u001B[0m \u001B[1;33m=\u001B[0m \u001B[1;36m0.15\u001B[0m\u001B[1;33m,\u001B[0m \u001B[0mlabel\u001B[0m \u001B[1;33m=\u001B[0m\u001B[1;34m\"KNNBasic\"\u001B[0m\u001B[1;33m)\u001B[0m\u001B[1;33m\u001B[0m\u001B[1;33m\u001B[0m\u001B[0m\n",
      "\u001B[1;32mc:\\users\\bobo1\\appdata\\local\\programs\\python\\python37\\lib\\site-packages\\matplotlib\\pyplot.py\u001B[0m in \u001B[0;36mbar\u001B[1;34m(x, height, width, bottom, align, data, **kwargs)\u001B[0m\n\u001B[0;32m   2487\u001B[0m     return gca().bar(\n\u001B[0;32m   2488\u001B[0m         \u001B[0mx\u001B[0m\u001B[1;33m,\u001B[0m \u001B[0mheight\u001B[0m\u001B[1;33m,\u001B[0m \u001B[0mwidth\u001B[0m\u001B[1;33m=\u001B[0m\u001B[0mwidth\u001B[0m\u001B[1;33m,\u001B[0m \u001B[0mbottom\u001B[0m\u001B[1;33m=\u001B[0m\u001B[0mbottom\u001B[0m\u001B[1;33m,\u001B[0m \u001B[0malign\u001B[0m\u001B[1;33m=\u001B[0m\u001B[0malign\u001B[0m\u001B[1;33m,\u001B[0m\u001B[1;33m\u001B[0m\u001B[1;33m\u001B[0m\u001B[0m\n\u001B[1;32m-> 2489\u001B[1;33m         **({\"data\": data} if data is not None else {}), **kwargs)\n\u001B[0m\u001B[0;32m   2490\u001B[0m \u001B[1;33m\u001B[0m\u001B[0m\n\u001B[0;32m   2491\u001B[0m \u001B[1;33m\u001B[0m\u001B[0m\n",
      "\u001B[1;32mc:\\users\\bobo1\\appdata\\local\\programs\\python\\python37\\lib\\site-packages\\matplotlib\\__init__.py\u001B[0m in \u001B[0;36minner\u001B[1;34m(ax, data, *args, **kwargs)\u001B[0m\n\u001B[0;32m   1445\u001B[0m     \u001B[1;32mdef\u001B[0m \u001B[0minner\u001B[0m\u001B[1;33m(\u001B[0m\u001B[0max\u001B[0m\u001B[1;33m,\u001B[0m \u001B[1;33m*\u001B[0m\u001B[0margs\u001B[0m\u001B[1;33m,\u001B[0m \u001B[0mdata\u001B[0m\u001B[1;33m=\u001B[0m\u001B[1;32mNone\u001B[0m\u001B[1;33m,\u001B[0m \u001B[1;33m**\u001B[0m\u001B[0mkwargs\u001B[0m\u001B[1;33m)\u001B[0m\u001B[1;33m:\u001B[0m\u001B[1;33m\u001B[0m\u001B[1;33m\u001B[0m\u001B[0m\n\u001B[0;32m   1446\u001B[0m         \u001B[1;32mif\u001B[0m \u001B[0mdata\u001B[0m \u001B[1;32mis\u001B[0m \u001B[1;32mNone\u001B[0m\u001B[1;33m:\u001B[0m\u001B[1;33m\u001B[0m\u001B[1;33m\u001B[0m\u001B[0m\n\u001B[1;32m-> 1447\u001B[1;33m             \u001B[1;32mreturn\u001B[0m \u001B[0mfunc\u001B[0m\u001B[1;33m(\u001B[0m\u001B[0max\u001B[0m\u001B[1;33m,\u001B[0m \u001B[1;33m*\u001B[0m\u001B[0mmap\u001B[0m\u001B[1;33m(\u001B[0m\u001B[0msanitize_sequence\u001B[0m\u001B[1;33m,\u001B[0m \u001B[0margs\u001B[0m\u001B[1;33m)\u001B[0m\u001B[1;33m,\u001B[0m \u001B[1;33m**\u001B[0m\u001B[0mkwargs\u001B[0m\u001B[1;33m)\u001B[0m\u001B[1;33m\u001B[0m\u001B[1;33m\u001B[0m\u001B[0m\n\u001B[0m\u001B[0;32m   1448\u001B[0m \u001B[1;33m\u001B[0m\u001B[0m\n\u001B[0;32m   1449\u001B[0m         \u001B[0mbound\u001B[0m \u001B[1;33m=\u001B[0m \u001B[0mnew_sig\u001B[0m\u001B[1;33m.\u001B[0m\u001B[0mbind\u001B[0m\u001B[1;33m(\u001B[0m\u001B[0max\u001B[0m\u001B[1;33m,\u001B[0m \u001B[1;33m*\u001B[0m\u001B[0margs\u001B[0m\u001B[1;33m,\u001B[0m \u001B[1;33m**\u001B[0m\u001B[0mkwargs\u001B[0m\u001B[1;33m)\u001B[0m\u001B[1;33m\u001B[0m\u001B[1;33m\u001B[0m\u001B[0m\n",
      "\u001B[1;32mc:\\users\\bobo1\\appdata\\local\\programs\\python\\python37\\lib\\site-packages\\matplotlib\\axes\\_axes.py\u001B[0m in \u001B[0;36mbar\u001B[1;34m(self, x, height, width, bottom, align, **kwargs)\u001B[0m\n\u001B[0;32m   2430\u001B[0m         x, height, width, y, linewidth = np.broadcast_arrays(\n\u001B[0;32m   2431\u001B[0m             \u001B[1;31m# Make args iterable too.\u001B[0m\u001B[1;33m\u001B[0m\u001B[1;33m\u001B[0m\u001B[1;33m\u001B[0m\u001B[0m\n\u001B[1;32m-> 2432\u001B[1;33m             np.atleast_1d(x), height, width, y, linewidth)\n\u001B[0m\u001B[0;32m   2433\u001B[0m \u001B[1;33m\u001B[0m\u001B[0m\n\u001B[0;32m   2434\u001B[0m         \u001B[1;31m# Now that units have been converted, set the tick locations.\u001B[0m\u001B[1;33m\u001B[0m\u001B[1;33m\u001B[0m\u001B[1;33m\u001B[0m\u001B[0m\n",
      "\u001B[1;32m<__array_function__ internals>\u001B[0m in \u001B[0;36mbroadcast_arrays\u001B[1;34m(*args, **kwargs)\u001B[0m\n",
      "\u001B[1;32mc:\\users\\bobo1\\appdata\\local\\programs\\python\\python37\\lib\\site-packages\\numpy\\lib\\stride_tricks.py\u001B[0m in \u001B[0;36mbroadcast_arrays\u001B[1;34m(subok, *args)\u001B[0m\n\u001B[0;32m    256\u001B[0m     \u001B[0margs\u001B[0m \u001B[1;33m=\u001B[0m \u001B[1;33m[\u001B[0m\u001B[0mnp\u001B[0m\u001B[1;33m.\u001B[0m\u001B[0marray\u001B[0m\u001B[1;33m(\u001B[0m\u001B[0m_m\u001B[0m\u001B[1;33m,\u001B[0m \u001B[0mcopy\u001B[0m\u001B[1;33m=\u001B[0m\u001B[1;32mFalse\u001B[0m\u001B[1;33m,\u001B[0m \u001B[0msubok\u001B[0m\u001B[1;33m=\u001B[0m\u001B[0msubok\u001B[0m\u001B[1;33m)\u001B[0m \u001B[1;32mfor\u001B[0m \u001B[0m_m\u001B[0m \u001B[1;32min\u001B[0m \u001B[0margs\u001B[0m\u001B[1;33m]\u001B[0m\u001B[1;33m\u001B[0m\u001B[1;33m\u001B[0m\u001B[0m\n\u001B[0;32m    257\u001B[0m \u001B[1;33m\u001B[0m\u001B[0m\n\u001B[1;32m--> 258\u001B[1;33m     \u001B[0mshape\u001B[0m \u001B[1;33m=\u001B[0m \u001B[0m_broadcast_shape\u001B[0m\u001B[1;33m(\u001B[0m\u001B[1;33m*\u001B[0m\u001B[0margs\u001B[0m\u001B[1;33m)\u001B[0m\u001B[1;33m\u001B[0m\u001B[1;33m\u001B[0m\u001B[0m\n\u001B[0m\u001B[0;32m    259\u001B[0m \u001B[1;33m\u001B[0m\u001B[0m\n\u001B[0;32m    260\u001B[0m     \u001B[1;32mif\u001B[0m \u001B[0mall\u001B[0m\u001B[1;33m(\u001B[0m\u001B[0marray\u001B[0m\u001B[1;33m.\u001B[0m\u001B[0mshape\u001B[0m \u001B[1;33m==\u001B[0m \u001B[0mshape\u001B[0m \u001B[1;32mfor\u001B[0m \u001B[0marray\u001B[0m \u001B[1;32min\u001B[0m \u001B[0margs\u001B[0m\u001B[1;33m)\u001B[0m\u001B[1;33m:\u001B[0m\u001B[1;33m\u001B[0m\u001B[1;33m\u001B[0m\u001B[0m\n",
      "\u001B[1;32mc:\\users\\bobo1\\appdata\\local\\programs\\python\\python37\\lib\\site-packages\\numpy\\lib\\stride_tricks.py\u001B[0m in \u001B[0;36m_broadcast_shape\u001B[1;34m(*args)\u001B[0m\n\u001B[0;32m    187\u001B[0m     \u001B[1;31m# use the old-iterator because np.nditer does not handle size 0 arrays\u001B[0m\u001B[1;33m\u001B[0m\u001B[1;33m\u001B[0m\u001B[1;33m\u001B[0m\u001B[0m\n\u001B[0;32m    188\u001B[0m     \u001B[1;31m# consistently\u001B[0m\u001B[1;33m\u001B[0m\u001B[1;33m\u001B[0m\u001B[1;33m\u001B[0m\u001B[0m\n\u001B[1;32m--> 189\u001B[1;33m     \u001B[0mb\u001B[0m \u001B[1;33m=\u001B[0m \u001B[0mnp\u001B[0m\u001B[1;33m.\u001B[0m\u001B[0mbroadcast\u001B[0m\u001B[1;33m(\u001B[0m\u001B[1;33m*\u001B[0m\u001B[0margs\u001B[0m\u001B[1;33m[\u001B[0m\u001B[1;33m:\u001B[0m\u001B[1;36m32\u001B[0m\u001B[1;33m]\u001B[0m\u001B[1;33m)\u001B[0m\u001B[1;33m\u001B[0m\u001B[1;33m\u001B[0m\u001B[0m\n\u001B[0m\u001B[0;32m    190\u001B[0m     \u001B[1;31m# unfortunately, it cannot handle 32 or more arguments directly\u001B[0m\u001B[1;33m\u001B[0m\u001B[1;33m\u001B[0m\u001B[1;33m\u001B[0m\u001B[0m\n\u001B[0;32m    191\u001B[0m     \u001B[1;32mfor\u001B[0m \u001B[0mpos\u001B[0m \u001B[1;32min\u001B[0m \u001B[0mrange\u001B[0m\u001B[1;33m(\u001B[0m\u001B[1;36m32\u001B[0m\u001B[1;33m,\u001B[0m \u001B[0mlen\u001B[0m\u001B[1;33m(\u001B[0m\u001B[0margs\u001B[0m\u001B[1;33m)\u001B[0m\u001B[1;33m,\u001B[0m \u001B[1;36m31\u001B[0m\u001B[1;33m)\u001B[0m\u001B[1;33m:\u001B[0m\u001B[1;33m\u001B[0m\u001B[1;33m\u001B[0m\u001B[0m\n",
      "\u001B[1;31mValueError\u001B[0m: shape mismatch: objects cannot be broadcast to a single shape"
     ]
    },
    {
     "data": {
      "text/plain": "<Figure size 432x288 with 1 Axes>",
      "image/png": "[encoded data removed]"
     },
     "metadata": {
      "needs_background": "light"
     },
     "output_type": "display_data"
    }
   ],
   "source": [
    "# Bar graph for comparing Accuracy Metrics for each algorithm\n",
    "x_labels = [\"1-month\", \"6-month\", \"12-month\",\"Entire User History\"]\n",
    "\n",
    "bar1 = [poor_compare[0] , better_compare[0]]\n",
    "bar2 = [poor_compare[1] , better_compare[1]]\n",
    "bar3 = [poor_compare[2] , better_compare[2]]\n",
    "bar4 = [poor_compare[3] , better_compare[3]]\n",
    "bar5 = [poor_compare[4] , better_compare[4]]\n",
    "\n",
    "x1 = np.arange(len(x_labels))\n",
    "plt.bar(x1+0, bar1, width = 0.15, label =\"KNNWithZScore\")\n",
    "plt.bar(x1+1, bar2, width = 0.15, label =\"KNNBaseline\")\n",
    "plt.bar(x1+2, bar3, width = 0.15, label =\"KNNBasic\")\n",
    "plt.bar(x1+3, bar4, width = 0.15, label =\"BaselineOnly\")\n",
    "plt.bar(x1+4, bar5, width = 0.15, label =\"KNNWithMeans\")\n",
    "\n",
    "plt.plot.xlabel(\"User Mainstreaminess Group\")\n",
    "plt.plot.ylabel(\"Result in Accuracy Metric\")\n",
    "plt.plot.legend(bbox_to_anchor=(1,1), loc=\"upper left\", ncol=1)\n",
    "plt.plot.xticks(x1 + 0.15, x_labels)\n",
    "plt.plot.show()"
   ],
   "metadata": {
    "collapsed": false,
    "pycharm": {
     "name": "#%%\n"
    }
   }
  },
  {
   "cell_type": "markdown",
   "metadata": {},
   "source": [
    "## Anomaly Detection\n",
    "\n",
    "#### From Scikit-Learn, Isolation Forest Algorithm:\n",
    "\n",
    "<ul><li>Return the anomaly score of each sample using the IsolationForest algorithm<ul><li>\n",
    "This algorithm ‘isolates’ observations by randomly selecting a feature\n",
    "and then randomly selecting a split value between the maximum\n",
    "and minimum values of the selected feature. </li></ul></li></ul>\n"
   ]
  },
  {
   "cell_type": "code",
   "execution_count": 94,
   "metadata": {
    "pycharm": {
     "name": "#%%\n"
    }
   },
   "outputs": [
    {
     "ename": "ValueError",
     "evalue": "Input contains NaN, infinity or a value too large for dtype('float64').",
     "output_type": "error",
     "traceback": [
      "\u001B[1;31m---------------------------------------------------------------------------\u001B[0m",
      "\u001B[1;31mValueError\u001B[0m                                Traceback (most recent call last)",
      "\u001B[1;32m<ipython-input-94-e1bf702aab10>\u001B[0m in \u001B[0;36m<module>\u001B[1;34m\u001B[0m\n\u001B[0;32m      1\u001B[0m \u001B[0misolation_forest\u001B[0m \u001B[1;33m=\u001B[0m \u001B[0mIsolationForest\u001B[0m\u001B[1;33m(\u001B[0m\u001B[0mn_estimators\u001B[0m\u001B[1;33m=\u001B[0m\u001B[1;36m100\u001B[0m\u001B[1;33m)\u001B[0m\u001B[1;33m\u001B[0m\u001B[1;33m\u001B[0m\u001B[0m\n\u001B[1;32m----> 2\u001B[1;33m \u001B[0misolation_forest\u001B[0m\u001B[1;33m.\u001B[0m\u001B[0mfit\u001B[0m\u001B[1;33m(\u001B[0m\u001B[0mdf\u001B[0m\u001B[1;33m[\u001B[0m\u001B[1;34m'MSAvg_6_months'\u001B[0m\u001B[1;33m]\u001B[0m\u001B[1;33m.\u001B[0m\u001B[0mvalues\u001B[0m\u001B[1;33m.\u001B[0m\u001B[0mreshape\u001B[0m\u001B[1;33m(\u001B[0m\u001B[1;33m-\u001B[0m\u001B[1;36m1\u001B[0m\u001B[1;33m,\u001B[0m \u001B[1;36m1\u001B[0m\u001B[1;33m)\u001B[0m\u001B[1;33m)\u001B[0m\u001B[1;33m\u001B[0m\u001B[1;33m\u001B[0m\u001B[0m\n\u001B[0m\u001B[0;32m      3\u001B[0m \u001B[0mxx\u001B[0m \u001B[1;33m=\u001B[0m \u001B[0mnp\u001B[0m\u001B[1;33m.\u001B[0m\u001B[0mlinspace\u001B[0m\u001B[1;33m(\u001B[0m\u001B[0mdf\u001B[0m\u001B[1;33m[\u001B[0m\u001B[1;34m'MSAvg_6_months'\u001B[0m\u001B[1;33m]\u001B[0m\u001B[1;33m.\u001B[0m\u001B[0mmin\u001B[0m\u001B[1;33m(\u001B[0m\u001B[1;33m)\u001B[0m\u001B[1;33m,\u001B[0m \u001B[0mdf\u001B[0m\u001B[1;33m[\u001B[0m\u001B[1;34m'MSAvg_6_months'\u001B[0m\u001B[1;33m]\u001B[0m\u001B[1;33m.\u001B[0m\u001B[0mmax\u001B[0m\u001B[1;33m(\u001B[0m\u001B[1;33m)\u001B[0m\u001B[1;33m,\u001B[0m \u001B[0mlen\u001B[0m\u001B[1;33m(\u001B[0m\u001B[0mdf\u001B[0m\u001B[1;33m)\u001B[0m\u001B[1;33m)\u001B[0m\u001B[1;33m.\u001B[0m\u001B[0mreshape\u001B[0m\u001B[1;33m(\u001B[0m\u001B[1;33m-\u001B[0m\u001B[1;36m1\u001B[0m\u001B[1;33m,\u001B[0m\u001B[1;36m1\u001B[0m\u001B[1;33m)\u001B[0m\u001B[1;33m\u001B[0m\u001B[1;33m\u001B[0m\u001B[0m\n\u001B[0;32m      4\u001B[0m \u001B[0manomaly_score\u001B[0m \u001B[1;33m=\u001B[0m \u001B[0misolation_forest\u001B[0m\u001B[1;33m.\u001B[0m\u001B[0mdecision_function\u001B[0m\u001B[1;33m(\u001B[0m\u001B[0mxx\u001B[0m\u001B[1;33m)\u001B[0m\u001B[1;33m\u001B[0m\u001B[1;33m\u001B[0m\u001B[0m\n\u001B[0;32m      5\u001B[0m \u001B[0moutlier\u001B[0m \u001B[1;33m=\u001B[0m \u001B[0misolation_forest\u001B[0m\u001B[1;33m.\u001B[0m\u001B[0mpredict\u001B[0m\u001B[1;33m(\u001B[0m\u001B[0mxx\u001B[0m\u001B[1;33m)\u001B[0m\u001B[1;33m\u001B[0m\u001B[1;33m\u001B[0m\u001B[0m\n",
      "\u001B[1;32mc:\\users\\bobo1\\appdata\\local\\programs\\python\\python37\\lib\\site-packages\\sklearn\\ensemble\\_iforest.py\u001B[0m in \u001B[0;36mfit\u001B[1;34m(self, X, y, sample_weight)\u001B[0m\n\u001B[0;32m    261\u001B[0m                 )\n\u001B[0;32m    262\u001B[0m \u001B[1;33m\u001B[0m\u001B[0m\n\u001B[1;32m--> 263\u001B[1;33m         \u001B[0mX\u001B[0m \u001B[1;33m=\u001B[0m \u001B[0mcheck_array\u001B[0m\u001B[1;33m(\u001B[0m\u001B[0mX\u001B[0m\u001B[1;33m,\u001B[0m \u001B[0maccept_sparse\u001B[0m\u001B[1;33m=\u001B[0m\u001B[1;33m[\u001B[0m\u001B[1;34m'csc'\u001B[0m\u001B[1;33m]\u001B[0m\u001B[1;33m)\u001B[0m\u001B[1;33m\u001B[0m\u001B[1;33m\u001B[0m\u001B[0m\n\u001B[0m\u001B[0;32m    264\u001B[0m         \u001B[1;32mif\u001B[0m \u001B[0missparse\u001B[0m\u001B[1;33m(\u001B[0m\u001B[0mX\u001B[0m\u001B[1;33m)\u001B[0m\u001B[1;33m:\u001B[0m\u001B[1;33m\u001B[0m\u001B[1;33m\u001B[0m\u001B[0m\n\u001B[0;32m    265\u001B[0m             \u001B[1;31m# Pre-sort indices to avoid that each individual tree of the\u001B[0m\u001B[1;33m\u001B[0m\u001B[1;33m\u001B[0m\u001B[1;33m\u001B[0m\u001B[0m\n",
      "\u001B[1;32mc:\\users\\bobo1\\appdata\\local\\programs\\python\\python37\\lib\\site-packages\\sklearn\\utils\\validation.py\u001B[0m in \u001B[0;36minner_f\u001B[1;34m(*args, **kwargs)\u001B[0m\n\u001B[0;32m     70\u001B[0m                           FutureWarning)\n\u001B[0;32m     71\u001B[0m         \u001B[0mkwargs\u001B[0m\u001B[1;33m.\u001B[0m\u001B[0mupdate\u001B[0m\u001B[1;33m(\u001B[0m\u001B[1;33m{\u001B[0m\u001B[0mk\u001B[0m\u001B[1;33m:\u001B[0m \u001B[0marg\u001B[0m \u001B[1;32mfor\u001B[0m \u001B[0mk\u001B[0m\u001B[1;33m,\u001B[0m \u001B[0marg\u001B[0m \u001B[1;32min\u001B[0m \u001B[0mzip\u001B[0m\u001B[1;33m(\u001B[0m\u001B[0msig\u001B[0m\u001B[1;33m.\u001B[0m\u001B[0mparameters\u001B[0m\u001B[1;33m,\u001B[0m \u001B[0margs\u001B[0m\u001B[1;33m)\u001B[0m\u001B[1;33m}\u001B[0m\u001B[1;33m)\u001B[0m\u001B[1;33m\u001B[0m\u001B[1;33m\u001B[0m\u001B[0m\n\u001B[1;32m---> 72\u001B[1;33m         \u001B[1;32mreturn\u001B[0m \u001B[0mf\u001B[0m\u001B[1;33m(\u001B[0m\u001B[1;33m**\u001B[0m\u001B[0mkwargs\u001B[0m\u001B[1;33m)\u001B[0m\u001B[1;33m\u001B[0m\u001B[1;33m\u001B[0m\u001B[0m\n\u001B[0m\u001B[0;32m     73\u001B[0m     \u001B[1;32mreturn\u001B[0m \u001B[0minner_f\u001B[0m\u001B[1;33m\u001B[0m\u001B[1;33m\u001B[0m\u001B[0m\n\u001B[0;32m     74\u001B[0m \u001B[1;33m\u001B[0m\u001B[0m\n",
      "\u001B[1;32mc:\\users\\bobo1\\appdata\\local\\programs\\python\\python37\\lib\\site-packages\\sklearn\\utils\\validation.py\u001B[0m in \u001B[0;36mcheck_array\u001B[1;34m(array, accept_sparse, accept_large_sparse, dtype, order, copy, force_all_finite, ensure_2d, allow_nd, ensure_min_samples, ensure_min_features, estimator)\u001B[0m\n\u001B[0;32m    643\u001B[0m         \u001B[1;32mif\u001B[0m \u001B[0mforce_all_finite\u001B[0m\u001B[1;33m:\u001B[0m\u001B[1;33m\u001B[0m\u001B[1;33m\u001B[0m\u001B[0m\n\u001B[0;32m    644\u001B[0m             _assert_all_finite(array,\n\u001B[1;32m--> 645\u001B[1;33m                                allow_nan=force_all_finite == 'allow-nan')\n\u001B[0m\u001B[0;32m    646\u001B[0m \u001B[1;33m\u001B[0m\u001B[0m\n\u001B[0;32m    647\u001B[0m     \u001B[1;32mif\u001B[0m \u001B[0mensure_min_samples\u001B[0m \u001B[1;33m>\u001B[0m \u001B[1;36m0\u001B[0m\u001B[1;33m:\u001B[0m\u001B[1;33m\u001B[0m\u001B[1;33m\u001B[0m\u001B[0m\n",
      "\u001B[1;32mc:\\users\\bobo1\\appdata\\local\\programs\\python\\python37\\lib\\site-packages\\sklearn\\utils\\validation.py\u001B[0m in \u001B[0;36m_assert_all_finite\u001B[1;34m(X, allow_nan, msg_dtype)\u001B[0m\n\u001B[0;32m     97\u001B[0m                     \u001B[0mmsg_err\u001B[0m\u001B[1;33m.\u001B[0m\u001B[0mformat\u001B[0m\u001B[1;33m\u001B[0m\u001B[1;33m\u001B[0m\u001B[0m\n\u001B[0;32m     98\u001B[0m                     (type_err,\n\u001B[1;32m---> 99\u001B[1;33m                      msg_dtype if msg_dtype is not None else X.dtype)\n\u001B[0m\u001B[0;32m    100\u001B[0m             )\n\u001B[0;32m    101\u001B[0m     \u001B[1;31m# for object dtype data, we only check for NaNs (GH-13254)\u001B[0m\u001B[1;33m\u001B[0m\u001B[1;33m\u001B[0m\u001B[1;33m\u001B[0m\u001B[0m\n",
      "\u001B[1;31mValueError\u001B[0m: Input contains NaN, infinity or a value too large for dtype('float64')."
     ]
    }
   ],
   "source": [
    "isolation_forest = IsolationForest(n_estimators=100)\n",
    "isolation_forest.fit(df['MSAvg_1_month'].values.reshape(-1, 1))\n",
    "xx = np.linspace(df['MSAvg_1_month'].min(), df['MSAvg_1_month'].max(), len(df)).reshape(-1,1)\n",
    "anomaly_score = isolation_forest.decision_function(xx)\n",
    "outlier = isolation_forest.predict(xx)\n",
    "plt.figure(figsize=(10,4))\n",
    "plt.plot(xx, anomaly_score, label='Anomaly Score')\n",
    "plt.fill_between(xx.T[0], np.min(anomaly_score), np.max(anomaly_score),\n",
    "                 where=outlier==1, color='b',\n",
    "                 alpha=.4, label='outlier region')\n",
    "plt.legend()\n",
    "plt.ylabel('Anomaly Score')\n",
    "plt.xlabel('Poor Distribution from 1 month span')\n",
    "plt.show();"
   ]
  },
  {
   "cell_type": "code",
   "execution_count": 160,
   "outputs": [
    {
     "data": {
      "text/plain": "<Figure size 720x288 with 1 Axes>",
      "image/png": "[encoded data removed]"
     },
     "metadata": {
      "needs_background": "light"
     },
     "output_type": "display_data"
    }
   ],
   "source": [
    "isolation_forest = IsolationForest(n_estimators=100)\n",
    "isolation_forest.fit(df['MSAvg_entire_user_activity_period'].values.reshape(-1, 1))\n",
    "xx = np.linspace(df['MSAvg_entire_user_activity_period'].min(), df['MSAvg_entire_user_activity_period'].max(), len(df)).reshape(-1,1)\n",
    "anomaly_score = isolation_forest.decision_function(xx)\n",
    "outlier = isolation_forest.predict(xx)\n",
    "plt.figure(figsize=(10,4))\n",
    "plt.plot(xx, anomaly_score, label='Anomaly Score')\n",
    "plt.fill_between(xx.T[0], np.min(anomaly_score), np.max(anomaly_score),\n",
    "                 where=outlier==1, color='b',\n",
    "                 alpha=.4, label='outlier region')\n",
    "plt.legend()\n",
    "plt.ylabel('Anomaly Score')\n",
    "plt.xlabel('Poor Distribution from Entire Listening History of User')\n",
    "plt.show();"
   ],
   "metadata": {
    "collapsed": false,
    "pycharm": {
     "name": "#%%\n"
    }
   }
  },
  {
   "cell_type": "code",
   "execution_count": null,
   "outputs": [],
   "source": [
    "# np.nan_to_num(df['MSAvg_6_months'])\n",
    "# df.MSAvg_6_months.astype(np.float64, copy=False)\n",
    "# isolation_forest = IsolationForest()\n",
    "# isolation_forest.fit(np.nan_to_num(df['MSAvg_6_months']).values.reshape(-1, 1))\n",
    "# xx = np.linspace(df['MSAvg_6_months'].min(), df['MSAvg_6_months'].max(), len(df)).reshape(-1,1)\n",
    "# anomaly_score = isolation_forest.decision_function(xx)\n",
    "# outlier = isolation_forest.predict(xx)\n",
    "# plt.figure(figsize=(10,4))\n",
    "# plt.plot(xx, anomaly_score, label='Anomaly Score')\n",
    "# plt.fill_between(xx.T[0], np.min(anomaly_score), np.max(anomaly_score),\n",
    "#                  where=outlier==1, color='b',\n",
    "#                  alpha=.4, label='outlier region')\n",
    "# plt.legend()\n",
    "# plt.ylabel('Anomaly Score')\n",
    "# plt.xlabel('Poor Distribution from 1 month span')\n",
    "# plt.show();\n"
   ],
   "metadata": {
    "collapsed": false,
    "pycharm": {
     "name": "#%%\n"
    }
   }
  }
 ],
 "metadata": {
  "kernelspec": {
   "display_name": "Python 3",
   "language": "python",
   "name": "python3"
  },
  "language_info": {
   "codemirror_mode": {
    "name": "ipython",
    "version": 3
   },
   "file_extension": ".py",
   "mimetype": "text/x-python",
   "name": "python",
   "nbconvert_exporter": "python",
   "pygments_lexer": "ipython3",
   "version": "3.7.4"
  }
 },
 "nbformat": 4,
 "nbformat_minor": 1
}